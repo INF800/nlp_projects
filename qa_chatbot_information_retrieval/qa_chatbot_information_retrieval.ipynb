{
  "nbformat": 4,
  "nbformat_minor": 0,
  "metadata": {
    "kernelspec": {
      "display_name": "Python 3",
      "language": "python",
      "name": "python3"
    },
    "language_info": {
      "codemirror_mode": {
        "name": "ipython",
        "version": 3
      },
      "file_extension": ".py",
      "mimetype": "text/x-python",
      "name": "python",
      "nbconvert_exporter": "python",
      "pygments_lexer": "ipython3",
      "version": "3.7.6"
    },
    "colab": {
      "name": "qa_chatbot_information_retrieval",
      "provenance": [],
      "collapsed_sections": [],
      "include_colab_link": true
    },
    "accelerator": "GPU",
    "widgets": {
      "application/vnd.jupyter.widget-state+json": {
        "0cedd3ed39d34cbdb82ee3e245b8b87d": {
          "model_module": "@jupyter-widgets/controls",
          "model_name": "HBoxModel",
          "model_module_version": "1.5.0",
          "state": {
            "_view_name": "HBoxView",
            "_dom_classes": [],
            "_model_name": "HBoxModel",
            "_view_module": "@jupyter-widgets/controls",
            "_model_module_version": "1.5.0",
            "_view_count": null,
            "_view_module_version": "1.5.0",
            "box_style": "",
            "layout": "IPY_MODEL_64eed5178e56485a9c41825c0295ba5d",
            "_model_module": "@jupyter-widgets/controls",
            "children": [
              "IPY_MODEL_a9ed775effb345be88c8b3e8f05d7883",
              "IPY_MODEL_f149423c69294d29ae6477ec71892c44",
              "IPY_MODEL_e30893f2f4994640a37021c70458ddbd"
            ]
          }
        },
        "64eed5178e56485a9c41825c0295ba5d": {
          "model_module": "@jupyter-widgets/base",
          "model_name": "LayoutModel",
          "model_module_version": "1.2.0",
          "state": {
            "_view_name": "LayoutView",
            "grid_template_rows": null,
            "right": null,
            "justify_content": null,
            "_view_module": "@jupyter-widgets/base",
            "overflow": null,
            "_model_module_version": "1.2.0",
            "_view_count": null,
            "flex_flow": null,
            "width": null,
            "min_width": null,
            "border": null,
            "align_items": null,
            "bottom": null,
            "_model_module": "@jupyter-widgets/base",
            "top": null,
            "grid_column": null,
            "overflow_y": null,
            "overflow_x": null,
            "grid_auto_flow": null,
            "grid_area": null,
            "grid_template_columns": null,
            "flex": null,
            "_model_name": "LayoutModel",
            "justify_items": null,
            "grid_row": null,
            "max_height": null,
            "align_content": null,
            "visibility": null,
            "align_self": null,
            "height": null,
            "min_height": null,
            "padding": null,
            "grid_auto_rows": null,
            "grid_gap": null,
            "max_width": null,
            "order": null,
            "_view_module_version": "1.2.0",
            "grid_template_areas": null,
            "object_position": null,
            "object_fit": null,
            "grid_auto_columns": null,
            "margin": null,
            "display": null,
            "left": null
          }
        },
        "a9ed775effb345be88c8b3e8f05d7883": {
          "model_module": "@jupyter-widgets/controls",
          "model_name": "HTMLModel",
          "model_module_version": "1.5.0",
          "state": {
            "_view_name": "HTMLView",
            "style": "IPY_MODEL_f72368a3bd8b47df963494ae0b3e5935",
            "_dom_classes": [],
            "description": "",
            "_model_name": "HTMLModel",
            "placeholder": "​",
            "_view_module": "@jupyter-widgets/controls",
            "_model_module_version": "1.5.0",
            "value": "Downloading: 100%",
            "_view_count": null,
            "_view_module_version": "1.5.0",
            "description_tooltip": null,
            "_model_module": "@jupyter-widgets/controls",
            "layout": "IPY_MODEL_130ef037ea404386a1dd986856cb807e"
          }
        },
        "f149423c69294d29ae6477ec71892c44": {
          "model_module": "@jupyter-widgets/controls",
          "model_name": "FloatProgressModel",
          "model_module_version": "1.5.0",
          "state": {
            "_view_name": "ProgressView",
            "style": "IPY_MODEL_dd1e1597121e40d390aaba2acc599a1e",
            "_dom_classes": [],
            "description": "",
            "_model_name": "FloatProgressModel",
            "bar_style": "success",
            "max": 571,
            "_view_module": "@jupyter-widgets/controls",
            "_model_module_version": "1.5.0",
            "value": 571,
            "_view_count": null,
            "_view_module_version": "1.5.0",
            "orientation": "horizontal",
            "min": 0,
            "description_tooltip": null,
            "_model_module": "@jupyter-widgets/controls",
            "layout": "IPY_MODEL_07e8725628e24849832194409194c5b0"
          }
        },
        "e30893f2f4994640a37021c70458ddbd": {
          "model_module": "@jupyter-widgets/controls",
          "model_name": "HTMLModel",
          "model_module_version": "1.5.0",
          "state": {
            "_view_name": "HTMLView",
            "style": "IPY_MODEL_9933b52294fc45b486068f54b180b63f",
            "_dom_classes": [],
            "description": "",
            "_model_name": "HTMLModel",
            "placeholder": "​",
            "_view_module": "@jupyter-widgets/controls",
            "_model_module_version": "1.5.0",
            "value": " 571/571 [00:00&lt;00:00, 15.6kB/s]",
            "_view_count": null,
            "_view_module_version": "1.5.0",
            "description_tooltip": null,
            "_model_module": "@jupyter-widgets/controls",
            "layout": "IPY_MODEL_83b27fcef7244b13baaec22911f31866"
          }
        },
        "f72368a3bd8b47df963494ae0b3e5935": {
          "model_module": "@jupyter-widgets/controls",
          "model_name": "DescriptionStyleModel",
          "model_module_version": "1.5.0",
          "state": {
            "_view_name": "StyleView",
            "_model_name": "DescriptionStyleModel",
            "description_width": "",
            "_view_module": "@jupyter-widgets/base",
            "_model_module_version": "1.5.0",
            "_view_count": null,
            "_view_module_version": "1.2.0",
            "_model_module": "@jupyter-widgets/controls"
          }
        },
        "130ef037ea404386a1dd986856cb807e": {
          "model_module": "@jupyter-widgets/base",
          "model_name": "LayoutModel",
          "model_module_version": "1.2.0",
          "state": {
            "_view_name": "LayoutView",
            "grid_template_rows": null,
            "right": null,
            "justify_content": null,
            "_view_module": "@jupyter-widgets/base",
            "overflow": null,
            "_model_module_version": "1.2.0",
            "_view_count": null,
            "flex_flow": null,
            "width": null,
            "min_width": null,
            "border": null,
            "align_items": null,
            "bottom": null,
            "_model_module": "@jupyter-widgets/base",
            "top": null,
            "grid_column": null,
            "overflow_y": null,
            "overflow_x": null,
            "grid_auto_flow": null,
            "grid_area": null,
            "grid_template_columns": null,
            "flex": null,
            "_model_name": "LayoutModel",
            "justify_items": null,
            "grid_row": null,
            "max_height": null,
            "align_content": null,
            "visibility": null,
            "align_self": null,
            "height": null,
            "min_height": null,
            "padding": null,
            "grid_auto_rows": null,
            "grid_gap": null,
            "max_width": null,
            "order": null,
            "_view_module_version": "1.2.0",
            "grid_template_areas": null,
            "object_position": null,
            "object_fit": null,
            "grid_auto_columns": null,
            "margin": null,
            "display": null,
            "left": null
          }
        },
        "dd1e1597121e40d390aaba2acc599a1e": {
          "model_module": "@jupyter-widgets/controls",
          "model_name": "ProgressStyleModel",
          "model_module_version": "1.5.0",
          "state": {
            "_view_name": "StyleView",
            "_model_name": "ProgressStyleModel",
            "description_width": "",
            "_view_module": "@jupyter-widgets/base",
            "_model_module_version": "1.5.0",
            "_view_count": null,
            "_view_module_version": "1.2.0",
            "bar_color": null,
            "_model_module": "@jupyter-widgets/controls"
          }
        },
        "07e8725628e24849832194409194c5b0": {
          "model_module": "@jupyter-widgets/base",
          "model_name": "LayoutModel",
          "model_module_version": "1.2.0",
          "state": {
            "_view_name": "LayoutView",
            "grid_template_rows": null,
            "right": null,
            "justify_content": null,
            "_view_module": "@jupyter-widgets/base",
            "overflow": null,
            "_model_module_version": "1.2.0",
            "_view_count": null,
            "flex_flow": null,
            "width": null,
            "min_width": null,
            "border": null,
            "align_items": null,
            "bottom": null,
            "_model_module": "@jupyter-widgets/base",
            "top": null,
            "grid_column": null,
            "overflow_y": null,
            "overflow_x": null,
            "grid_auto_flow": null,
            "grid_area": null,
            "grid_template_columns": null,
            "flex": null,
            "_model_name": "LayoutModel",
            "justify_items": null,
            "grid_row": null,
            "max_height": null,
            "align_content": null,
            "visibility": null,
            "align_self": null,
            "height": null,
            "min_height": null,
            "padding": null,
            "grid_auto_rows": null,
            "grid_gap": null,
            "max_width": null,
            "order": null,
            "_view_module_version": "1.2.0",
            "grid_template_areas": null,
            "object_position": null,
            "object_fit": null,
            "grid_auto_columns": null,
            "margin": null,
            "display": null,
            "left": null
          }
        },
        "9933b52294fc45b486068f54b180b63f": {
          "model_module": "@jupyter-widgets/controls",
          "model_name": "DescriptionStyleModel",
          "model_module_version": "1.5.0",
          "state": {
            "_view_name": "StyleView",
            "_model_name": "DescriptionStyleModel",
            "description_width": "",
            "_view_module": "@jupyter-widgets/base",
            "_model_module_version": "1.5.0",
            "_view_count": null,
            "_view_module_version": "1.2.0",
            "_model_module": "@jupyter-widgets/controls"
          }
        },
        "83b27fcef7244b13baaec22911f31866": {
          "model_module": "@jupyter-widgets/base",
          "model_name": "LayoutModel",
          "model_module_version": "1.2.0",
          "state": {
            "_view_name": "LayoutView",
            "grid_template_rows": null,
            "right": null,
            "justify_content": null,
            "_view_module": "@jupyter-widgets/base",
            "overflow": null,
            "_model_module_version": "1.2.0",
            "_view_count": null,
            "flex_flow": null,
            "width": null,
            "min_width": null,
            "border": null,
            "align_items": null,
            "bottom": null,
            "_model_module": "@jupyter-widgets/base",
            "top": null,
            "grid_column": null,
            "overflow_y": null,
            "overflow_x": null,
            "grid_auto_flow": null,
            "grid_area": null,
            "grid_template_columns": null,
            "flex": null,
            "_model_name": "LayoutModel",
            "justify_items": null,
            "grid_row": null,
            "max_height": null,
            "align_content": null,
            "visibility": null,
            "align_self": null,
            "height": null,
            "min_height": null,
            "padding": null,
            "grid_auto_rows": null,
            "grid_gap": null,
            "max_width": null,
            "order": null,
            "_view_module_version": "1.2.0",
            "grid_template_areas": null,
            "object_position": null,
            "object_fit": null,
            "grid_auto_columns": null,
            "margin": null,
            "display": null,
            "left": null
          }
        },
        "05975c88241442e1aa98827d5ff92c3b": {
          "model_module": "@jupyter-widgets/controls",
          "model_name": "HBoxModel",
          "model_module_version": "1.5.0",
          "state": {
            "_view_name": "HBoxView",
            "_dom_classes": [],
            "_model_name": "HBoxModel",
            "_view_module": "@jupyter-widgets/controls",
            "_model_module_version": "1.5.0",
            "_view_count": null,
            "_view_module_version": "1.5.0",
            "box_style": "",
            "layout": "IPY_MODEL_73708c4679ab468bb371c9772bf09b1a",
            "_model_module": "@jupyter-widgets/controls",
            "children": [
              "IPY_MODEL_24b5cdf23e9d4e6bb716ce53e3d54697",
              "IPY_MODEL_ed13fefb45244e9289641e32b562722a",
              "IPY_MODEL_5ba9069d864c423b9addd65c3b0d3491"
            ]
          }
        },
        "73708c4679ab468bb371c9772bf09b1a": {
          "model_module": "@jupyter-widgets/base",
          "model_name": "LayoutModel",
          "model_module_version": "1.2.0",
          "state": {
            "_view_name": "LayoutView",
            "grid_template_rows": null,
            "right": null,
            "justify_content": null,
            "_view_module": "@jupyter-widgets/base",
            "overflow": null,
            "_model_module_version": "1.2.0",
            "_view_count": null,
            "flex_flow": null,
            "width": null,
            "min_width": null,
            "border": null,
            "align_items": null,
            "bottom": null,
            "_model_module": "@jupyter-widgets/base",
            "top": null,
            "grid_column": null,
            "overflow_y": null,
            "overflow_x": null,
            "grid_auto_flow": null,
            "grid_area": null,
            "grid_template_columns": null,
            "flex": null,
            "_model_name": "LayoutModel",
            "justify_items": null,
            "grid_row": null,
            "max_height": null,
            "align_content": null,
            "visibility": null,
            "align_self": null,
            "height": null,
            "min_height": null,
            "padding": null,
            "grid_auto_rows": null,
            "grid_gap": null,
            "max_width": null,
            "order": null,
            "_view_module_version": "1.2.0",
            "grid_template_areas": null,
            "object_position": null,
            "object_fit": null,
            "grid_auto_columns": null,
            "margin": null,
            "display": null,
            "left": null
          }
        },
        "24b5cdf23e9d4e6bb716ce53e3d54697": {
          "model_module": "@jupyter-widgets/controls",
          "model_name": "HTMLModel",
          "model_module_version": "1.5.0",
          "state": {
            "_view_name": "HTMLView",
            "style": "IPY_MODEL_da834b8a1f934e039fd9dee07c166fe2",
            "_dom_classes": [],
            "description": "",
            "_model_name": "HTMLModel",
            "placeholder": "​",
            "_view_module": "@jupyter-widgets/controls",
            "_model_module_version": "1.5.0",
            "value": "Downloading: 100%",
            "_view_count": null,
            "_view_module_version": "1.5.0",
            "description_tooltip": null,
            "_model_module": "@jupyter-widgets/controls",
            "layout": "IPY_MODEL_a8deb8f171534de3a443b4ea80aabb17"
          }
        },
        "ed13fefb45244e9289641e32b562722a": {
          "model_module": "@jupyter-widgets/controls",
          "model_name": "FloatProgressModel",
          "model_module_version": "1.5.0",
          "state": {
            "_view_name": "ProgressView",
            "style": "IPY_MODEL_3af7142d994d493ca536fa9c49f19d0f",
            "_dom_classes": [],
            "description": "",
            "_model_name": "FloatProgressModel",
            "bar_style": "success",
            "max": 496313727,
            "_view_module": "@jupyter-widgets/controls",
            "_model_module_version": "1.5.0",
            "value": 496313727,
            "_view_count": null,
            "_view_module_version": "1.5.0",
            "orientation": "horizontal",
            "min": 0,
            "description_tooltip": null,
            "_model_module": "@jupyter-widgets/controls",
            "layout": "IPY_MODEL_ac5bc71ab4d84570b99a253227d9cfb6"
          }
        },
        "5ba9069d864c423b9addd65c3b0d3491": {
          "model_module": "@jupyter-widgets/controls",
          "model_name": "HTMLModel",
          "model_module_version": "1.5.0",
          "state": {
            "_view_name": "HTMLView",
            "style": "IPY_MODEL_f8a57aaa998640719f2cef8faddb79e5",
            "_dom_classes": [],
            "description": "",
            "_model_name": "HTMLModel",
            "placeholder": "​",
            "_view_module": "@jupyter-widgets/controls",
            "_model_module_version": "1.5.0",
            "value": " 496M/496M [00:11&lt;00:00, 47.1MB/s]",
            "_view_count": null,
            "_view_module_version": "1.5.0",
            "description_tooltip": null,
            "_model_module": "@jupyter-widgets/controls",
            "layout": "IPY_MODEL_45d08c44879e4cb68d30d08ebca1d911"
          }
        },
        "da834b8a1f934e039fd9dee07c166fe2": {
          "model_module": "@jupyter-widgets/controls",
          "model_name": "DescriptionStyleModel",
          "model_module_version": "1.5.0",
          "state": {
            "_view_name": "StyleView",
            "_model_name": "DescriptionStyleModel",
            "description_width": "",
            "_view_module": "@jupyter-widgets/base",
            "_model_module_version": "1.5.0",
            "_view_count": null,
            "_view_module_version": "1.2.0",
            "_model_module": "@jupyter-widgets/controls"
          }
        },
        "a8deb8f171534de3a443b4ea80aabb17": {
          "model_module": "@jupyter-widgets/base",
          "model_name": "LayoutModel",
          "model_module_version": "1.2.0",
          "state": {
            "_view_name": "LayoutView",
            "grid_template_rows": null,
            "right": null,
            "justify_content": null,
            "_view_module": "@jupyter-widgets/base",
            "overflow": null,
            "_model_module_version": "1.2.0",
            "_view_count": null,
            "flex_flow": null,
            "width": null,
            "min_width": null,
            "border": null,
            "align_items": null,
            "bottom": null,
            "_model_module": "@jupyter-widgets/base",
            "top": null,
            "grid_column": null,
            "overflow_y": null,
            "overflow_x": null,
            "grid_auto_flow": null,
            "grid_area": null,
            "grid_template_columns": null,
            "flex": null,
            "_model_name": "LayoutModel",
            "justify_items": null,
            "grid_row": null,
            "max_height": null,
            "align_content": null,
            "visibility": null,
            "align_self": null,
            "height": null,
            "min_height": null,
            "padding": null,
            "grid_auto_rows": null,
            "grid_gap": null,
            "max_width": null,
            "order": null,
            "_view_module_version": "1.2.0",
            "grid_template_areas": null,
            "object_position": null,
            "object_fit": null,
            "grid_auto_columns": null,
            "margin": null,
            "display": null,
            "left": null
          }
        },
        "3af7142d994d493ca536fa9c49f19d0f": {
          "model_module": "@jupyter-widgets/controls",
          "model_name": "ProgressStyleModel",
          "model_module_version": "1.5.0",
          "state": {
            "_view_name": "StyleView",
            "_model_name": "ProgressStyleModel",
            "description_width": "",
            "_view_module": "@jupyter-widgets/base",
            "_model_module_version": "1.5.0",
            "_view_count": null,
            "_view_module_version": "1.2.0",
            "bar_color": null,
            "_model_module": "@jupyter-widgets/controls"
          }
        },
        "ac5bc71ab4d84570b99a253227d9cfb6": {
          "model_module": "@jupyter-widgets/base",
          "model_name": "LayoutModel",
          "model_module_version": "1.2.0",
          "state": {
            "_view_name": "LayoutView",
            "grid_template_rows": null,
            "right": null,
            "justify_content": null,
            "_view_module": "@jupyter-widgets/base",
            "overflow": null,
            "_model_module_version": "1.2.0",
            "_view_count": null,
            "flex_flow": null,
            "width": null,
            "min_width": null,
            "border": null,
            "align_items": null,
            "bottom": null,
            "_model_module": "@jupyter-widgets/base",
            "top": null,
            "grid_column": null,
            "overflow_y": null,
            "overflow_x": null,
            "grid_auto_flow": null,
            "grid_area": null,
            "grid_template_columns": null,
            "flex": null,
            "_model_name": "LayoutModel",
            "justify_items": null,
            "grid_row": null,
            "max_height": null,
            "align_content": null,
            "visibility": null,
            "align_self": null,
            "height": null,
            "min_height": null,
            "padding": null,
            "grid_auto_rows": null,
            "grid_gap": null,
            "max_width": null,
            "order": null,
            "_view_module_version": "1.2.0",
            "grid_template_areas": null,
            "object_position": null,
            "object_fit": null,
            "grid_auto_columns": null,
            "margin": null,
            "display": null,
            "left": null
          }
        },
        "f8a57aaa998640719f2cef8faddb79e5": {
          "model_module": "@jupyter-widgets/controls",
          "model_name": "DescriptionStyleModel",
          "model_module_version": "1.5.0",
          "state": {
            "_view_name": "StyleView",
            "_model_name": "DescriptionStyleModel",
            "description_width": "",
            "_view_module": "@jupyter-widgets/base",
            "_model_module_version": "1.5.0",
            "_view_count": null,
            "_view_module_version": "1.2.0",
            "_model_module": "@jupyter-widgets/controls"
          }
        },
        "45d08c44879e4cb68d30d08ebca1d911": {
          "model_module": "@jupyter-widgets/base",
          "model_name": "LayoutModel",
          "model_module_version": "1.2.0",
          "state": {
            "_view_name": "LayoutView",
            "grid_template_rows": null,
            "right": null,
            "justify_content": null,
            "_view_module": "@jupyter-widgets/base",
            "overflow": null,
            "_model_module_version": "1.2.0",
            "_view_count": null,
            "flex_flow": null,
            "width": null,
            "min_width": null,
            "border": null,
            "align_items": null,
            "bottom": null,
            "_model_module": "@jupyter-widgets/base",
            "top": null,
            "grid_column": null,
            "overflow_y": null,
            "overflow_x": null,
            "grid_auto_flow": null,
            "grid_area": null,
            "grid_template_columns": null,
            "flex": null,
            "_model_name": "LayoutModel",
            "justify_items": null,
            "grid_row": null,
            "max_height": null,
            "align_content": null,
            "visibility": null,
            "align_self": null,
            "height": null,
            "min_height": null,
            "padding": null,
            "grid_auto_rows": null,
            "grid_gap": null,
            "max_width": null,
            "order": null,
            "_view_module_version": "1.2.0",
            "grid_template_areas": null,
            "object_position": null,
            "object_fit": null,
            "grid_auto_columns": null,
            "margin": null,
            "display": null,
            "left": null
          }
        },
        "f27764b22cd04b8c98a233ff1e62db5a": {
          "model_module": "@jupyter-widgets/controls",
          "model_name": "HBoxModel",
          "model_module_version": "1.5.0",
          "state": {
            "_view_name": "HBoxView",
            "_dom_classes": [],
            "_model_name": "HBoxModel",
            "_view_module": "@jupyter-widgets/controls",
            "_model_module_version": "1.5.0",
            "_view_count": null,
            "_view_module_version": "1.5.0",
            "box_style": "",
            "layout": "IPY_MODEL_696afc17a6c541caae30a695c64c0032",
            "_model_module": "@jupyter-widgets/controls",
            "children": [
              "IPY_MODEL_5678d22ed85d4602b1ca2bc3cb44360a",
              "IPY_MODEL_98bbb4485cc0456e88d8a19dd68add1a",
              "IPY_MODEL_cda05761f76c4f659992157f2aa8cbb5"
            ]
          }
        },
        "696afc17a6c541caae30a695c64c0032": {
          "model_module": "@jupyter-widgets/base",
          "model_name": "LayoutModel",
          "model_module_version": "1.2.0",
          "state": {
            "_view_name": "LayoutView",
            "grid_template_rows": null,
            "right": null,
            "justify_content": null,
            "_view_module": "@jupyter-widgets/base",
            "overflow": null,
            "_model_module_version": "1.2.0",
            "_view_count": null,
            "flex_flow": null,
            "width": null,
            "min_width": null,
            "border": null,
            "align_items": null,
            "bottom": null,
            "_model_module": "@jupyter-widgets/base",
            "top": null,
            "grid_column": null,
            "overflow_y": null,
            "overflow_x": null,
            "grid_auto_flow": null,
            "grid_area": null,
            "grid_template_columns": null,
            "flex": null,
            "_model_name": "LayoutModel",
            "justify_items": null,
            "grid_row": null,
            "max_height": null,
            "align_content": null,
            "visibility": null,
            "align_self": null,
            "height": null,
            "min_height": null,
            "padding": null,
            "grid_auto_rows": null,
            "grid_gap": null,
            "max_width": null,
            "order": null,
            "_view_module_version": "1.2.0",
            "grid_template_areas": null,
            "object_position": null,
            "object_fit": null,
            "grid_auto_columns": null,
            "margin": null,
            "display": null,
            "left": null
          }
        },
        "5678d22ed85d4602b1ca2bc3cb44360a": {
          "model_module": "@jupyter-widgets/controls",
          "model_name": "HTMLModel",
          "model_module_version": "1.5.0",
          "state": {
            "_view_name": "HTMLView",
            "style": "IPY_MODEL_30c01e5bcbdb4514a0f4c781a9da5b14",
            "_dom_classes": [],
            "description": "",
            "_model_name": "HTMLModel",
            "placeholder": "​",
            "_view_module": "@jupyter-widgets/controls",
            "_model_module_version": "1.5.0",
            "value": "Downloading: 100%",
            "_view_count": null,
            "_view_module_version": "1.5.0",
            "description_tooltip": null,
            "_model_module": "@jupyter-widgets/controls",
            "layout": "IPY_MODEL_9be5abcb4e6548778d1870e320baeccd"
          }
        },
        "98bbb4485cc0456e88d8a19dd68add1a": {
          "model_module": "@jupyter-widgets/controls",
          "model_name": "FloatProgressModel",
          "model_module_version": "1.5.0",
          "state": {
            "_view_name": "ProgressView",
            "style": "IPY_MODEL_7e1c455ebf34461295a3236800738107",
            "_dom_classes": [],
            "description": "",
            "_model_name": "FloatProgressModel",
            "bar_style": "success",
            "max": 898822,
            "_view_module": "@jupyter-widgets/controls",
            "_model_module_version": "1.5.0",
            "value": 898822,
            "_view_count": null,
            "_view_module_version": "1.5.0",
            "orientation": "horizontal",
            "min": 0,
            "description_tooltip": null,
            "_model_module": "@jupyter-widgets/controls",
            "layout": "IPY_MODEL_014f06b8a8e94edd81ec4099d22a2bd4"
          }
        },
        "cda05761f76c4f659992157f2aa8cbb5": {
          "model_module": "@jupyter-widgets/controls",
          "model_name": "HTMLModel",
          "model_module_version": "1.5.0",
          "state": {
            "_view_name": "HTMLView",
            "style": "IPY_MODEL_011cd65f77e446c095b22fbc4a2ceee5",
            "_dom_classes": [],
            "description": "",
            "_model_name": "HTMLModel",
            "placeholder": "​",
            "_view_module": "@jupyter-widgets/controls",
            "_model_module_version": "1.5.0",
            "value": " 899k/899k [00:00&lt;00:00, 1.59MB/s]",
            "_view_count": null,
            "_view_module_version": "1.5.0",
            "description_tooltip": null,
            "_model_module": "@jupyter-widgets/controls",
            "layout": "IPY_MODEL_dbd5d8ac40b44d69922fb46f4f953b5e"
          }
        },
        "30c01e5bcbdb4514a0f4c781a9da5b14": {
          "model_module": "@jupyter-widgets/controls",
          "model_name": "DescriptionStyleModel",
          "model_module_version": "1.5.0",
          "state": {
            "_view_name": "StyleView",
            "_model_name": "DescriptionStyleModel",
            "description_width": "",
            "_view_module": "@jupyter-widgets/base",
            "_model_module_version": "1.5.0",
            "_view_count": null,
            "_view_module_version": "1.2.0",
            "_model_module": "@jupyter-widgets/controls"
          }
        },
        "9be5abcb4e6548778d1870e320baeccd": {
          "model_module": "@jupyter-widgets/base",
          "model_name": "LayoutModel",
          "model_module_version": "1.2.0",
          "state": {
            "_view_name": "LayoutView",
            "grid_template_rows": null,
            "right": null,
            "justify_content": null,
            "_view_module": "@jupyter-widgets/base",
            "overflow": null,
            "_model_module_version": "1.2.0",
            "_view_count": null,
            "flex_flow": null,
            "width": null,
            "min_width": null,
            "border": null,
            "align_items": null,
            "bottom": null,
            "_model_module": "@jupyter-widgets/base",
            "top": null,
            "grid_column": null,
            "overflow_y": null,
            "overflow_x": null,
            "grid_auto_flow": null,
            "grid_area": null,
            "grid_template_columns": null,
            "flex": null,
            "_model_name": "LayoutModel",
            "justify_items": null,
            "grid_row": null,
            "max_height": null,
            "align_content": null,
            "visibility": null,
            "align_self": null,
            "height": null,
            "min_height": null,
            "padding": null,
            "grid_auto_rows": null,
            "grid_gap": null,
            "max_width": null,
            "order": null,
            "_view_module_version": "1.2.0",
            "grid_template_areas": null,
            "object_position": null,
            "object_fit": null,
            "grid_auto_columns": null,
            "margin": null,
            "display": null,
            "left": null
          }
        },
        "7e1c455ebf34461295a3236800738107": {
          "model_module": "@jupyter-widgets/controls",
          "model_name": "ProgressStyleModel",
          "model_module_version": "1.5.0",
          "state": {
            "_view_name": "StyleView",
            "_model_name": "ProgressStyleModel",
            "description_width": "",
            "_view_module": "@jupyter-widgets/base",
            "_model_module_version": "1.5.0",
            "_view_count": null,
            "_view_module_version": "1.2.0",
            "bar_color": null,
            "_model_module": "@jupyter-widgets/controls"
          }
        },
        "014f06b8a8e94edd81ec4099d22a2bd4": {
          "model_module": "@jupyter-widgets/base",
          "model_name": "LayoutModel",
          "model_module_version": "1.2.0",
          "state": {
            "_view_name": "LayoutView",
            "grid_template_rows": null,
            "right": null,
            "justify_content": null,
            "_view_module": "@jupyter-widgets/base",
            "overflow": null,
            "_model_module_version": "1.2.0",
            "_view_count": null,
            "flex_flow": null,
            "width": null,
            "min_width": null,
            "border": null,
            "align_items": null,
            "bottom": null,
            "_model_module": "@jupyter-widgets/base",
            "top": null,
            "grid_column": null,
            "overflow_y": null,
            "overflow_x": null,
            "grid_auto_flow": null,
            "grid_area": null,
            "grid_template_columns": null,
            "flex": null,
            "_model_name": "LayoutModel",
            "justify_items": null,
            "grid_row": null,
            "max_height": null,
            "align_content": null,
            "visibility": null,
            "align_self": null,
            "height": null,
            "min_height": null,
            "padding": null,
            "grid_auto_rows": null,
            "grid_gap": null,
            "max_width": null,
            "order": null,
            "_view_module_version": "1.2.0",
            "grid_template_areas": null,
            "object_position": null,
            "object_fit": null,
            "grid_auto_columns": null,
            "margin": null,
            "display": null,
            "left": null
          }
        },
        "011cd65f77e446c095b22fbc4a2ceee5": {
          "model_module": "@jupyter-widgets/controls",
          "model_name": "DescriptionStyleModel",
          "model_module_version": "1.5.0",
          "state": {
            "_view_name": "StyleView",
            "_model_name": "DescriptionStyleModel",
            "description_width": "",
            "_view_module": "@jupyter-widgets/base",
            "_model_module_version": "1.5.0",
            "_view_count": null,
            "_view_module_version": "1.2.0",
            "_model_module": "@jupyter-widgets/controls"
          }
        },
        "dbd5d8ac40b44d69922fb46f4f953b5e": {
          "model_module": "@jupyter-widgets/base",
          "model_name": "LayoutModel",
          "model_module_version": "1.2.0",
          "state": {
            "_view_name": "LayoutView",
            "grid_template_rows": null,
            "right": null,
            "justify_content": null,
            "_view_module": "@jupyter-widgets/base",
            "overflow": null,
            "_model_module_version": "1.2.0",
            "_view_count": null,
            "flex_flow": null,
            "width": null,
            "min_width": null,
            "border": null,
            "align_items": null,
            "bottom": null,
            "_model_module": "@jupyter-widgets/base",
            "top": null,
            "grid_column": null,
            "overflow_y": null,
            "overflow_x": null,
            "grid_auto_flow": null,
            "grid_area": null,
            "grid_template_columns": null,
            "flex": null,
            "_model_name": "LayoutModel",
            "justify_items": null,
            "grid_row": null,
            "max_height": null,
            "align_content": null,
            "visibility": null,
            "align_self": null,
            "height": null,
            "min_height": null,
            "padding": null,
            "grid_auto_rows": null,
            "grid_gap": null,
            "max_width": null,
            "order": null,
            "_view_module_version": "1.2.0",
            "grid_template_areas": null,
            "object_position": null,
            "object_fit": null,
            "grid_auto_columns": null,
            "margin": null,
            "display": null,
            "left": null
          }
        },
        "6a208a592681477f81715fa8c832d189": {
          "model_module": "@jupyter-widgets/controls",
          "model_name": "HBoxModel",
          "model_module_version": "1.5.0",
          "state": {
            "_view_name": "HBoxView",
            "_dom_classes": [],
            "_model_name": "HBoxModel",
            "_view_module": "@jupyter-widgets/controls",
            "_model_module_version": "1.5.0",
            "_view_count": null,
            "_view_module_version": "1.5.0",
            "box_style": "",
            "layout": "IPY_MODEL_7d39b693e3c945c9a1ead6fa14d6cc8a",
            "_model_module": "@jupyter-widgets/controls",
            "children": [
              "IPY_MODEL_c55a0a795bf04ea5a97a1815d2cf11a9",
              "IPY_MODEL_b7acb68b2da3438e92a9fcd0c8c4cab9",
              "IPY_MODEL_5ee556c1a3c543429f8a714c6390b771"
            ]
          }
        },
        "7d39b693e3c945c9a1ead6fa14d6cc8a": {
          "model_module": "@jupyter-widgets/base",
          "model_name": "LayoutModel",
          "model_module_version": "1.2.0",
          "state": {
            "_view_name": "LayoutView",
            "grid_template_rows": null,
            "right": null,
            "justify_content": null,
            "_view_module": "@jupyter-widgets/base",
            "overflow": null,
            "_model_module_version": "1.2.0",
            "_view_count": null,
            "flex_flow": null,
            "width": null,
            "min_width": null,
            "border": null,
            "align_items": null,
            "bottom": null,
            "_model_module": "@jupyter-widgets/base",
            "top": null,
            "grid_column": null,
            "overflow_y": null,
            "overflow_x": null,
            "grid_auto_flow": null,
            "grid_area": null,
            "grid_template_columns": null,
            "flex": null,
            "_model_name": "LayoutModel",
            "justify_items": null,
            "grid_row": null,
            "max_height": null,
            "align_content": null,
            "visibility": null,
            "align_self": null,
            "height": null,
            "min_height": null,
            "padding": null,
            "grid_auto_rows": null,
            "grid_gap": null,
            "max_width": null,
            "order": null,
            "_view_module_version": "1.2.0",
            "grid_template_areas": null,
            "object_position": null,
            "object_fit": null,
            "grid_auto_columns": null,
            "margin": null,
            "display": null,
            "left": null
          }
        },
        "c55a0a795bf04ea5a97a1815d2cf11a9": {
          "model_module": "@jupyter-widgets/controls",
          "model_name": "HTMLModel",
          "model_module_version": "1.5.0",
          "state": {
            "_view_name": "HTMLView",
            "style": "IPY_MODEL_2475a4764a9e4defa8fc1fe57294d03c",
            "_dom_classes": [],
            "description": "",
            "_model_name": "HTMLModel",
            "placeholder": "​",
            "_view_module": "@jupyter-widgets/controls",
            "_model_module_version": "1.5.0",
            "value": "Downloading: 100%",
            "_view_count": null,
            "_view_module_version": "1.5.0",
            "description_tooltip": null,
            "_model_module": "@jupyter-widgets/controls",
            "layout": "IPY_MODEL_39fb79baca3a4965ac50a9c31d1df433"
          }
        },
        "b7acb68b2da3438e92a9fcd0c8c4cab9": {
          "model_module": "@jupyter-widgets/controls",
          "model_name": "FloatProgressModel",
          "model_module_version": "1.5.0",
          "state": {
            "_view_name": "ProgressView",
            "style": "IPY_MODEL_e436e611dffd44f4ac2eb55cb53ab882",
            "_dom_classes": [],
            "description": "",
            "_model_name": "FloatProgressModel",
            "bar_style": "success",
            "max": 456318,
            "_view_module": "@jupyter-widgets/controls",
            "_model_module_version": "1.5.0",
            "value": 456318,
            "_view_count": null,
            "_view_module_version": "1.5.0",
            "orientation": "horizontal",
            "min": 0,
            "description_tooltip": null,
            "_model_module": "@jupyter-widgets/controls",
            "layout": "IPY_MODEL_59fbb93fc3064b0a8e9690e4151ca0cf"
          }
        },
        "5ee556c1a3c543429f8a714c6390b771": {
          "model_module": "@jupyter-widgets/controls",
          "model_name": "HTMLModel",
          "model_module_version": "1.5.0",
          "state": {
            "_view_name": "HTMLView",
            "style": "IPY_MODEL_25d2ca7327ec487d9e7d534fd5ca7511",
            "_dom_classes": [],
            "description": "",
            "_model_name": "HTMLModel",
            "placeholder": "​",
            "_view_module": "@jupyter-widgets/controls",
            "_model_module_version": "1.5.0",
            "value": " 456k/456k [00:00&lt;00:00, 1.48MB/s]",
            "_view_count": null,
            "_view_module_version": "1.5.0",
            "description_tooltip": null,
            "_model_module": "@jupyter-widgets/controls",
            "layout": "IPY_MODEL_b248bbd3f6b946a69713d908551d64dd"
          }
        },
        "2475a4764a9e4defa8fc1fe57294d03c": {
          "model_module": "@jupyter-widgets/controls",
          "model_name": "DescriptionStyleModel",
          "model_module_version": "1.5.0",
          "state": {
            "_view_name": "StyleView",
            "_model_name": "DescriptionStyleModel",
            "description_width": "",
            "_view_module": "@jupyter-widgets/base",
            "_model_module_version": "1.5.0",
            "_view_count": null,
            "_view_module_version": "1.2.0",
            "_model_module": "@jupyter-widgets/controls"
          }
        },
        "39fb79baca3a4965ac50a9c31d1df433": {
          "model_module": "@jupyter-widgets/base",
          "model_name": "LayoutModel",
          "model_module_version": "1.2.0",
          "state": {
            "_view_name": "LayoutView",
            "grid_template_rows": null,
            "right": null,
            "justify_content": null,
            "_view_module": "@jupyter-widgets/base",
            "overflow": null,
            "_model_module_version": "1.2.0",
            "_view_count": null,
            "flex_flow": null,
            "width": null,
            "min_width": null,
            "border": null,
            "align_items": null,
            "bottom": null,
            "_model_module": "@jupyter-widgets/base",
            "top": null,
            "grid_column": null,
            "overflow_y": null,
            "overflow_x": null,
            "grid_auto_flow": null,
            "grid_area": null,
            "grid_template_columns": null,
            "flex": null,
            "_model_name": "LayoutModel",
            "justify_items": null,
            "grid_row": null,
            "max_height": null,
            "align_content": null,
            "visibility": null,
            "align_self": null,
            "height": null,
            "min_height": null,
            "padding": null,
            "grid_auto_rows": null,
            "grid_gap": null,
            "max_width": null,
            "order": null,
            "_view_module_version": "1.2.0",
            "grid_template_areas": null,
            "object_position": null,
            "object_fit": null,
            "grid_auto_columns": null,
            "margin": null,
            "display": null,
            "left": null
          }
        },
        "e436e611dffd44f4ac2eb55cb53ab882": {
          "model_module": "@jupyter-widgets/controls",
          "model_name": "ProgressStyleModel",
          "model_module_version": "1.5.0",
          "state": {
            "_view_name": "StyleView",
            "_model_name": "ProgressStyleModel",
            "description_width": "",
            "_view_module": "@jupyter-widgets/base",
            "_model_module_version": "1.5.0",
            "_view_count": null,
            "_view_module_version": "1.2.0",
            "bar_color": null,
            "_model_module": "@jupyter-widgets/controls"
          }
        },
        "59fbb93fc3064b0a8e9690e4151ca0cf": {
          "model_module": "@jupyter-widgets/base",
          "model_name": "LayoutModel",
          "model_module_version": "1.2.0",
          "state": {
            "_view_name": "LayoutView",
            "grid_template_rows": null,
            "right": null,
            "justify_content": null,
            "_view_module": "@jupyter-widgets/base",
            "overflow": null,
            "_model_module_version": "1.2.0",
            "_view_count": null,
            "flex_flow": null,
            "width": null,
            "min_width": null,
            "border": null,
            "align_items": null,
            "bottom": null,
            "_model_module": "@jupyter-widgets/base",
            "top": null,
            "grid_column": null,
            "overflow_y": null,
            "overflow_x": null,
            "grid_auto_flow": null,
            "grid_area": null,
            "grid_template_columns": null,
            "flex": null,
            "_model_name": "LayoutModel",
            "justify_items": null,
            "grid_row": null,
            "max_height": null,
            "align_content": null,
            "visibility": null,
            "align_self": null,
            "height": null,
            "min_height": null,
            "padding": null,
            "grid_auto_rows": null,
            "grid_gap": null,
            "max_width": null,
            "order": null,
            "_view_module_version": "1.2.0",
            "grid_template_areas": null,
            "object_position": null,
            "object_fit": null,
            "grid_auto_columns": null,
            "margin": null,
            "display": null,
            "left": null
          }
        },
        "25d2ca7327ec487d9e7d534fd5ca7511": {
          "model_module": "@jupyter-widgets/controls",
          "model_name": "DescriptionStyleModel",
          "model_module_version": "1.5.0",
          "state": {
            "_view_name": "StyleView",
            "_model_name": "DescriptionStyleModel",
            "description_width": "",
            "_view_module": "@jupyter-widgets/base",
            "_model_module_version": "1.5.0",
            "_view_count": null,
            "_view_module_version": "1.2.0",
            "_model_module": "@jupyter-widgets/controls"
          }
        },
        "b248bbd3f6b946a69713d908551d64dd": {
          "model_module": "@jupyter-widgets/base",
          "model_name": "LayoutModel",
          "model_module_version": "1.2.0",
          "state": {
            "_view_name": "LayoutView",
            "grid_template_rows": null,
            "right": null,
            "justify_content": null,
            "_view_module": "@jupyter-widgets/base",
            "overflow": null,
            "_model_module_version": "1.2.0",
            "_view_count": null,
            "flex_flow": null,
            "width": null,
            "min_width": null,
            "border": null,
            "align_items": null,
            "bottom": null,
            "_model_module": "@jupyter-widgets/base",
            "top": null,
            "grid_column": null,
            "overflow_y": null,
            "overflow_x": null,
            "grid_auto_flow": null,
            "grid_area": null,
            "grid_template_columns": null,
            "flex": null,
            "_model_name": "LayoutModel",
            "justify_items": null,
            "grid_row": null,
            "max_height": null,
            "align_content": null,
            "visibility": null,
            "align_self": null,
            "height": null,
            "min_height": null,
            "padding": null,
            "grid_auto_rows": null,
            "grid_gap": null,
            "max_width": null,
            "order": null,
            "_view_module_version": "1.2.0",
            "grid_template_areas": null,
            "object_position": null,
            "object_fit": null,
            "grid_auto_columns": null,
            "margin": null,
            "display": null,
            "left": null
          }
        },
        "15e8520a128a40c5841dee483826bbc3": {
          "model_module": "@jupyter-widgets/controls",
          "model_name": "HBoxModel",
          "model_module_version": "1.5.0",
          "state": {
            "_view_name": "HBoxView",
            "_dom_classes": [],
            "_model_name": "HBoxModel",
            "_view_module": "@jupyter-widgets/controls",
            "_model_module_version": "1.5.0",
            "_view_count": null,
            "_view_module_version": "1.5.0",
            "box_style": "",
            "layout": "IPY_MODEL_2aefb285b8f14299954244bc830f1e4d",
            "_model_module": "@jupyter-widgets/controls",
            "children": [
              "IPY_MODEL_767a1232ef87467bb7350a55953a984e",
              "IPY_MODEL_98ced67b7b2340dd8ce8a61127d7499f",
              "IPY_MODEL_ccb4111cf34041a6a14fc29abeaa7649"
            ]
          }
        },
        "2aefb285b8f14299954244bc830f1e4d": {
          "model_module": "@jupyter-widgets/base",
          "model_name": "LayoutModel",
          "model_module_version": "1.2.0",
          "state": {
            "_view_name": "LayoutView",
            "grid_template_rows": null,
            "right": null,
            "justify_content": null,
            "_view_module": "@jupyter-widgets/base",
            "overflow": null,
            "_model_module_version": "1.2.0",
            "_view_count": null,
            "flex_flow": null,
            "width": null,
            "min_width": null,
            "border": null,
            "align_items": null,
            "bottom": null,
            "_model_module": "@jupyter-widgets/base",
            "top": null,
            "grid_column": null,
            "overflow_y": null,
            "overflow_x": null,
            "grid_auto_flow": null,
            "grid_area": null,
            "grid_template_columns": null,
            "flex": null,
            "_model_name": "LayoutModel",
            "justify_items": null,
            "grid_row": null,
            "max_height": null,
            "align_content": null,
            "visibility": null,
            "align_self": null,
            "height": null,
            "min_height": null,
            "padding": null,
            "grid_auto_rows": null,
            "grid_gap": null,
            "max_width": null,
            "order": null,
            "_view_module_version": "1.2.0",
            "grid_template_areas": null,
            "object_position": null,
            "object_fit": null,
            "grid_auto_columns": null,
            "margin": null,
            "display": null,
            "left": null
          }
        },
        "767a1232ef87467bb7350a55953a984e": {
          "model_module": "@jupyter-widgets/controls",
          "model_name": "HTMLModel",
          "model_module_version": "1.5.0",
          "state": {
            "_view_name": "HTMLView",
            "style": "IPY_MODEL_f8798ec480b24119a3197b6a3e07d9e8",
            "_dom_classes": [],
            "description": "",
            "_model_name": "HTMLModel",
            "placeholder": "​",
            "_view_module": "@jupyter-widgets/controls",
            "_model_module_version": "1.5.0",
            "value": "Downloading: 100%",
            "_view_count": null,
            "_view_module_version": "1.5.0",
            "description_tooltip": null,
            "_model_module": "@jupyter-widgets/controls",
            "layout": "IPY_MODEL_5611a8f2713b47d48d7223d8ffb07229"
          }
        },
        "98ced67b7b2340dd8ce8a61127d7499f": {
          "model_module": "@jupyter-widgets/controls",
          "model_name": "FloatProgressModel",
          "model_module_version": "1.5.0",
          "state": {
            "_view_name": "ProgressView",
            "style": "IPY_MODEL_dd68c4c9c5154426afde3f6a303ad2ad",
            "_dom_classes": [],
            "description": "",
            "_model_name": "FloatProgressModel",
            "bar_style": "success",
            "max": 772,
            "_view_module": "@jupyter-widgets/controls",
            "_model_module_version": "1.5.0",
            "value": 772,
            "_view_count": null,
            "_view_module_version": "1.5.0",
            "orientation": "horizontal",
            "min": 0,
            "description_tooltip": null,
            "_model_module": "@jupyter-widgets/controls",
            "layout": "IPY_MODEL_3b89b7a44c124931a7f1a22fe5151a25"
          }
        },
        "ccb4111cf34041a6a14fc29abeaa7649": {
          "model_module": "@jupyter-widgets/controls",
          "model_name": "HTMLModel",
          "model_module_version": "1.5.0",
          "state": {
            "_view_name": "HTMLView",
            "style": "IPY_MODEL_e7c7f1fd99de49bb87d20e0cd5533771",
            "_dom_classes": [],
            "description": "",
            "_model_name": "HTMLModel",
            "placeholder": "​",
            "_view_module": "@jupyter-widgets/controls",
            "_model_module_version": "1.5.0",
            "value": " 772/772 [00:00&lt;00:00, 16.9kB/s]",
            "_view_count": null,
            "_view_module_version": "1.5.0",
            "description_tooltip": null,
            "_model_module": "@jupyter-widgets/controls",
            "layout": "IPY_MODEL_e99b222cb23342af9bf7cfee8ba99206"
          }
        },
        "f8798ec480b24119a3197b6a3e07d9e8": {
          "model_module": "@jupyter-widgets/controls",
          "model_name": "DescriptionStyleModel",
          "model_module_version": "1.5.0",
          "state": {
            "_view_name": "StyleView",
            "_model_name": "DescriptionStyleModel",
            "description_width": "",
            "_view_module": "@jupyter-widgets/base",
            "_model_module_version": "1.5.0",
            "_view_count": null,
            "_view_module_version": "1.2.0",
            "_model_module": "@jupyter-widgets/controls"
          }
        },
        "5611a8f2713b47d48d7223d8ffb07229": {
          "model_module": "@jupyter-widgets/base",
          "model_name": "LayoutModel",
          "model_module_version": "1.2.0",
          "state": {
            "_view_name": "LayoutView",
            "grid_template_rows": null,
            "right": null,
            "justify_content": null,
            "_view_module": "@jupyter-widgets/base",
            "overflow": null,
            "_model_module_version": "1.2.0",
            "_view_count": null,
            "flex_flow": null,
            "width": null,
            "min_width": null,
            "border": null,
            "align_items": null,
            "bottom": null,
            "_model_module": "@jupyter-widgets/base",
            "top": null,
            "grid_column": null,
            "overflow_y": null,
            "overflow_x": null,
            "grid_auto_flow": null,
            "grid_area": null,
            "grid_template_columns": null,
            "flex": null,
            "_model_name": "LayoutModel",
            "justify_items": null,
            "grid_row": null,
            "max_height": null,
            "align_content": null,
            "visibility": null,
            "align_self": null,
            "height": null,
            "min_height": null,
            "padding": null,
            "grid_auto_rows": null,
            "grid_gap": null,
            "max_width": null,
            "order": null,
            "_view_module_version": "1.2.0",
            "grid_template_areas": null,
            "object_position": null,
            "object_fit": null,
            "grid_auto_columns": null,
            "margin": null,
            "display": null,
            "left": null
          }
        },
        "dd68c4c9c5154426afde3f6a303ad2ad": {
          "model_module": "@jupyter-widgets/controls",
          "model_name": "ProgressStyleModel",
          "model_module_version": "1.5.0",
          "state": {
            "_view_name": "StyleView",
            "_model_name": "ProgressStyleModel",
            "description_width": "",
            "_view_module": "@jupyter-widgets/base",
            "_model_module_version": "1.5.0",
            "_view_count": null,
            "_view_module_version": "1.2.0",
            "bar_color": null,
            "_model_module": "@jupyter-widgets/controls"
          }
        },
        "3b89b7a44c124931a7f1a22fe5151a25": {
          "model_module": "@jupyter-widgets/base",
          "model_name": "LayoutModel",
          "model_module_version": "1.2.0",
          "state": {
            "_view_name": "LayoutView",
            "grid_template_rows": null,
            "right": null,
            "justify_content": null,
            "_view_module": "@jupyter-widgets/base",
            "overflow": null,
            "_model_module_version": "1.2.0",
            "_view_count": null,
            "flex_flow": null,
            "width": null,
            "min_width": null,
            "border": null,
            "align_items": null,
            "bottom": null,
            "_model_module": "@jupyter-widgets/base",
            "top": null,
            "grid_column": null,
            "overflow_y": null,
            "overflow_x": null,
            "grid_auto_flow": null,
            "grid_area": null,
            "grid_template_columns": null,
            "flex": null,
            "_model_name": "LayoutModel",
            "justify_items": null,
            "grid_row": null,
            "max_height": null,
            "align_content": null,
            "visibility": null,
            "align_self": null,
            "height": null,
            "min_height": null,
            "padding": null,
            "grid_auto_rows": null,
            "grid_gap": null,
            "max_width": null,
            "order": null,
            "_view_module_version": "1.2.0",
            "grid_template_areas": null,
            "object_position": null,
            "object_fit": null,
            "grid_auto_columns": null,
            "margin": null,
            "display": null,
            "left": null
          }
        },
        "e7c7f1fd99de49bb87d20e0cd5533771": {
          "model_module": "@jupyter-widgets/controls",
          "model_name": "DescriptionStyleModel",
          "model_module_version": "1.5.0",
          "state": {
            "_view_name": "StyleView",
            "_model_name": "DescriptionStyleModel",
            "description_width": "",
            "_view_module": "@jupyter-widgets/base",
            "_model_module_version": "1.5.0",
            "_view_count": null,
            "_view_module_version": "1.2.0",
            "_model_module": "@jupyter-widgets/controls"
          }
        },
        "e99b222cb23342af9bf7cfee8ba99206": {
          "model_module": "@jupyter-widgets/base",
          "model_name": "LayoutModel",
          "model_module_version": "1.2.0",
          "state": {
            "_view_name": "LayoutView",
            "grid_template_rows": null,
            "right": null,
            "justify_content": null,
            "_view_module": "@jupyter-widgets/base",
            "overflow": null,
            "_model_module_version": "1.2.0",
            "_view_count": null,
            "flex_flow": null,
            "width": null,
            "min_width": null,
            "border": null,
            "align_items": null,
            "bottom": null,
            "_model_module": "@jupyter-widgets/base",
            "top": null,
            "grid_column": null,
            "overflow_y": null,
            "overflow_x": null,
            "grid_auto_flow": null,
            "grid_area": null,
            "grid_template_columns": null,
            "flex": null,
            "_model_name": "LayoutModel",
            "justify_items": null,
            "grid_row": null,
            "max_height": null,
            "align_content": null,
            "visibility": null,
            "align_self": null,
            "height": null,
            "min_height": null,
            "padding": null,
            "grid_auto_rows": null,
            "grid_gap": null,
            "max_width": null,
            "order": null,
            "_view_module_version": "1.2.0",
            "grid_template_areas": null,
            "object_position": null,
            "object_fit": null,
            "grid_auto_columns": null,
            "margin": null,
            "display": null,
            "left": null
          }
        },
        "4532bbecc2b643788a1af249d249c4d0": {
          "model_module": "@jupyter-widgets/controls",
          "model_name": "HBoxModel",
          "model_module_version": "1.5.0",
          "state": {
            "_view_name": "HBoxView",
            "_dom_classes": [],
            "_model_name": "HBoxModel",
            "_view_module": "@jupyter-widgets/controls",
            "_model_module_version": "1.5.0",
            "_view_count": null,
            "_view_module_version": "1.5.0",
            "box_style": "",
            "layout": "IPY_MODEL_adcfc0f0b6f94421a41cc165d4052be7",
            "_model_module": "@jupyter-widgets/controls",
            "children": [
              "IPY_MODEL_8f4788ec15904d549e6610b3814912d4",
              "IPY_MODEL_0004405cc608495bb98849d766a63f6b",
              "IPY_MODEL_7ecc9a90c1844560b241522321eccefc"
            ]
          }
        },
        "adcfc0f0b6f94421a41cc165d4052be7": {
          "model_module": "@jupyter-widgets/base",
          "model_name": "LayoutModel",
          "model_module_version": "1.2.0",
          "state": {
            "_view_name": "LayoutView",
            "grid_template_rows": null,
            "right": null,
            "justify_content": null,
            "_view_module": "@jupyter-widgets/base",
            "overflow": null,
            "_model_module_version": "1.2.0",
            "_view_count": null,
            "flex_flow": null,
            "width": null,
            "min_width": null,
            "border": null,
            "align_items": null,
            "bottom": null,
            "_model_module": "@jupyter-widgets/base",
            "top": null,
            "grid_column": null,
            "overflow_y": null,
            "overflow_x": null,
            "grid_auto_flow": null,
            "grid_area": null,
            "grid_template_columns": null,
            "flex": null,
            "_model_name": "LayoutModel",
            "justify_items": null,
            "grid_row": null,
            "max_height": null,
            "align_content": null,
            "visibility": null,
            "align_self": null,
            "height": null,
            "min_height": null,
            "padding": null,
            "grid_auto_rows": null,
            "grid_gap": null,
            "max_width": null,
            "order": null,
            "_view_module_version": "1.2.0",
            "grid_template_areas": null,
            "object_position": null,
            "object_fit": null,
            "grid_auto_columns": null,
            "margin": null,
            "display": null,
            "left": null
          }
        },
        "8f4788ec15904d549e6610b3814912d4": {
          "model_module": "@jupyter-widgets/controls",
          "model_name": "HTMLModel",
          "model_module_version": "1.5.0",
          "state": {
            "_view_name": "HTMLView",
            "style": "IPY_MODEL_6a60839465f7400c9e308f753f88e4cc",
            "_dom_classes": [],
            "description": "",
            "_model_name": "HTMLModel",
            "placeholder": "​",
            "_view_module": "@jupyter-widgets/controls",
            "_model_module_version": "1.5.0",
            "value": "Downloading: 100%",
            "_view_count": null,
            "_view_module_version": "1.5.0",
            "description_tooltip": null,
            "_model_module": "@jupyter-widgets/controls",
            "layout": "IPY_MODEL_98df50cecac94c099bcc8d6d1b6be248"
          }
        },
        "0004405cc608495bb98849d766a63f6b": {
          "model_module": "@jupyter-widgets/controls",
          "model_name": "FloatProgressModel",
          "model_module_version": "1.5.0",
          "state": {
            "_view_name": "ProgressView",
            "style": "IPY_MODEL_82dbc7330fd04d9d8c95278d7445b1b8",
            "_dom_classes": [],
            "description": "",
            "_model_name": "FloatProgressModel",
            "bar_style": "success",
            "max": 79,
            "_view_module": "@jupyter-widgets/controls",
            "_model_module_version": "1.5.0",
            "value": 79,
            "_view_count": null,
            "_view_module_version": "1.5.0",
            "orientation": "horizontal",
            "min": 0,
            "description_tooltip": null,
            "_model_module": "@jupyter-widgets/controls",
            "layout": "IPY_MODEL_e82fc135e17b4930827a16f56c9df753"
          }
        },
        "7ecc9a90c1844560b241522321eccefc": {
          "model_module": "@jupyter-widgets/controls",
          "model_name": "HTMLModel",
          "model_module_version": "1.5.0",
          "state": {
            "_view_name": "HTMLView",
            "style": "IPY_MODEL_ccef4e6583764397b5780d8552895654",
            "_dom_classes": [],
            "description": "",
            "_model_name": "HTMLModel",
            "placeholder": "​",
            "_view_module": "@jupyter-widgets/controls",
            "_model_module_version": "1.5.0",
            "value": " 79.0/79.0 [00:00&lt;00:00, 1.92kB/s]",
            "_view_count": null,
            "_view_module_version": "1.5.0",
            "description_tooltip": null,
            "_model_module": "@jupyter-widgets/controls",
            "layout": "IPY_MODEL_daf0dc417d114c9cb8193a9308d62e3f"
          }
        },
        "6a60839465f7400c9e308f753f88e4cc": {
          "model_module": "@jupyter-widgets/controls",
          "model_name": "DescriptionStyleModel",
          "model_module_version": "1.5.0",
          "state": {
            "_view_name": "StyleView",
            "_model_name": "DescriptionStyleModel",
            "description_width": "",
            "_view_module": "@jupyter-widgets/base",
            "_model_module_version": "1.5.0",
            "_view_count": null,
            "_view_module_version": "1.2.0",
            "_model_module": "@jupyter-widgets/controls"
          }
        },
        "98df50cecac94c099bcc8d6d1b6be248": {
          "model_module": "@jupyter-widgets/base",
          "model_name": "LayoutModel",
          "model_module_version": "1.2.0",
          "state": {
            "_view_name": "LayoutView",
            "grid_template_rows": null,
            "right": null,
            "justify_content": null,
            "_view_module": "@jupyter-widgets/base",
            "overflow": null,
            "_model_module_version": "1.2.0",
            "_view_count": null,
            "flex_flow": null,
            "width": null,
            "min_width": null,
            "border": null,
            "align_items": null,
            "bottom": null,
            "_model_module": "@jupyter-widgets/base",
            "top": null,
            "grid_column": null,
            "overflow_y": null,
            "overflow_x": null,
            "grid_auto_flow": null,
            "grid_area": null,
            "grid_template_columns": null,
            "flex": null,
            "_model_name": "LayoutModel",
            "justify_items": null,
            "grid_row": null,
            "max_height": null,
            "align_content": null,
            "visibility": null,
            "align_self": null,
            "height": null,
            "min_height": null,
            "padding": null,
            "grid_auto_rows": null,
            "grid_gap": null,
            "max_width": null,
            "order": null,
            "_view_module_version": "1.2.0",
            "grid_template_areas": null,
            "object_position": null,
            "object_fit": null,
            "grid_auto_columns": null,
            "margin": null,
            "display": null,
            "left": null
          }
        },
        "82dbc7330fd04d9d8c95278d7445b1b8": {
          "model_module": "@jupyter-widgets/controls",
          "model_name": "ProgressStyleModel",
          "model_module_version": "1.5.0",
          "state": {
            "_view_name": "StyleView",
            "_model_name": "ProgressStyleModel",
            "description_width": "",
            "_view_module": "@jupyter-widgets/base",
            "_model_module_version": "1.5.0",
            "_view_count": null,
            "_view_module_version": "1.2.0",
            "bar_color": null,
            "_model_module": "@jupyter-widgets/controls"
          }
        },
        "e82fc135e17b4930827a16f56c9df753": {
          "model_module": "@jupyter-widgets/base",
          "model_name": "LayoutModel",
          "model_module_version": "1.2.0",
          "state": {
            "_view_name": "LayoutView",
            "grid_template_rows": null,
            "right": null,
            "justify_content": null,
            "_view_module": "@jupyter-widgets/base",
            "overflow": null,
            "_model_module_version": "1.2.0",
            "_view_count": null,
            "flex_flow": null,
            "width": null,
            "min_width": null,
            "border": null,
            "align_items": null,
            "bottom": null,
            "_model_module": "@jupyter-widgets/base",
            "top": null,
            "grid_column": null,
            "overflow_y": null,
            "overflow_x": null,
            "grid_auto_flow": null,
            "grid_area": null,
            "grid_template_columns": null,
            "flex": null,
            "_model_name": "LayoutModel",
            "justify_items": null,
            "grid_row": null,
            "max_height": null,
            "align_content": null,
            "visibility": null,
            "align_self": null,
            "height": null,
            "min_height": null,
            "padding": null,
            "grid_auto_rows": null,
            "grid_gap": null,
            "max_width": null,
            "order": null,
            "_view_module_version": "1.2.0",
            "grid_template_areas": null,
            "object_position": null,
            "object_fit": null,
            "grid_auto_columns": null,
            "margin": null,
            "display": null,
            "left": null
          }
        },
        "ccef4e6583764397b5780d8552895654": {
          "model_module": "@jupyter-widgets/controls",
          "model_name": "DescriptionStyleModel",
          "model_module_version": "1.5.0",
          "state": {
            "_view_name": "StyleView",
            "_model_name": "DescriptionStyleModel",
            "description_width": "",
            "_view_module": "@jupyter-widgets/base",
            "_model_module_version": "1.5.0",
            "_view_count": null,
            "_view_module_version": "1.2.0",
            "_model_module": "@jupyter-widgets/controls"
          }
        },
        "daf0dc417d114c9cb8193a9308d62e3f": {
          "model_module": "@jupyter-widgets/base",
          "model_name": "LayoutModel",
          "model_module_version": "1.2.0",
          "state": {
            "_view_name": "LayoutView",
            "grid_template_rows": null,
            "right": null,
            "justify_content": null,
            "_view_module": "@jupyter-widgets/base",
            "overflow": null,
            "_model_module_version": "1.2.0",
            "_view_count": null,
            "flex_flow": null,
            "width": null,
            "min_width": null,
            "border": null,
            "align_items": null,
            "bottom": null,
            "_model_module": "@jupyter-widgets/base",
            "top": null,
            "grid_column": null,
            "overflow_y": null,
            "overflow_x": null,
            "grid_auto_flow": null,
            "grid_area": null,
            "grid_template_columns": null,
            "flex": null,
            "_model_name": "LayoutModel",
            "justify_items": null,
            "grid_row": null,
            "max_height": null,
            "align_content": null,
            "visibility": null,
            "align_self": null,
            "height": null,
            "min_height": null,
            "padding": null,
            "grid_auto_rows": null,
            "grid_gap": null,
            "max_width": null,
            "order": null,
            "_view_module_version": "1.2.0",
            "grid_template_areas": null,
            "object_position": null,
            "object_fit": null,
            "grid_auto_columns": null,
            "margin": null,
            "display": null,
            "left": null
          }
        }
      }
    }
  },
  "cells": [
    {
      "cell_type": "markdown",
      "metadata": {
        "id": "view-in-github",
        "colab_type": "text"
      },
      "source": [
        "<a href=\"https://colab.research.google.com/github/INF800/nlp_projects/blob/main/qa_chatbot_information_retrieval/qa_chatbot_information_retrieval.ipynb\" target=\"_parent\"><img src=\"https://colab.research.google.com/assets/colab-badge.svg\" alt=\"Open In Colab\"/></a>"
      ]
    },
    {
      "cell_type": "code",
      "metadata": {
        "pycharm": {
          "name": "#%%\n"
        },
        "id": "vCIlPuksnox4",
        "colab": {
          "base_uri": "https://localhost:8080/"
        },
        "outputId": "8e561826-a930-4576-8a89-630323667126"
      },
      "source": [
        "# Make sure you have a GPU running\n",
        "!nvidia-smi"
      ],
      "execution_count": 1,
      "outputs": [
        {
          "output_type": "stream",
          "text": [
            "Mon Aug 16 20:28:06 2021       \n",
            "+-----------------------------------------------------------------------------+\n",
            "| NVIDIA-SMI 470.57.02    Driver Version: 460.32.03    CUDA Version: 11.2     |\n",
            "|-------------------------------+----------------------+----------------------+\n",
            "| GPU  Name        Persistence-M| Bus-Id        Disp.A | Volatile Uncorr. ECC |\n",
            "| Fan  Temp  Perf  Pwr:Usage/Cap|         Memory-Usage | GPU-Util  Compute M. |\n",
            "|                               |                      |               MIG M. |\n",
            "|===============================+======================+======================|\n",
            "|   0  Tesla T4            Off  | 00000000:00:04.0 Off |                    0 |\n",
            "| N/A   61C    P8    10W /  70W |      0MiB / 15109MiB |      0%      Default |\n",
            "|                               |                      |                  N/A |\n",
            "+-------------------------------+----------------------+----------------------+\n",
            "                                                                               \n",
            "+-----------------------------------------------------------------------------+\n",
            "| Processes:                                                                  |\n",
            "|  GPU   GI   CI        PID   Type   Process name                  GPU Memory |\n",
            "|        ID   ID                                                   Usage      |\n",
            "|=============================================================================|\n",
            "|  No running processes found                                                 |\n",
            "+-----------------------------------------------------------------------------+\n"
          ],
          "name": "stdout"
        }
      ]
    },
    {
      "cell_type": "code",
      "metadata": {
        "id": "alqdGhLhnox4",
        "colab": {
          "base_uri": "https://localhost:8080/"
        },
        "outputId": "7460f531-383a-45d2-a413-b0cdf34e9daa"
      },
      "source": [
        "# Install the latest release of Haystack in your own environment \n",
        "#! pip install farm-haystack\n",
        "\n",
        "# Install the latest master of Haystack\n",
        "!pip install grpcio-tools==1.34.1\n",
        "!pip install git+https://github.com/deepset-ai/haystack.git -qqq"
      ],
      "execution_count": 1,
      "outputs": [
        {
          "output_type": "stream",
          "text": [
            "Collecting grpcio-tools==1.34.1\n",
            "  Downloading grpcio_tools-1.34.1-cp37-cp37m-manylinux2014_x86_64.whl (2.5 MB)\n",
            "\u001b[K     |████████████████████████████████| 2.5 MB 7.0 MB/s \n",
            "\u001b[?25hRequirement already satisfied: protobuf<4.0dev,>=3.5.0.post1 in /usr/local/lib/python3.7/dist-packages (from grpcio-tools==1.34.1) (3.17.3)\n",
            "Requirement already satisfied: grpcio>=1.34.1 in /usr/local/lib/python3.7/dist-packages (from grpcio-tools==1.34.1) (1.34.1)\n",
            "Requirement already satisfied: setuptools in /usr/local/lib/python3.7/dist-packages (from grpcio-tools==1.34.1) (57.4.0)\n",
            "Requirement already satisfied: six>=1.5.2 in /usr/local/lib/python3.7/dist-packages (from grpcio>=1.34.1->grpcio-tools==1.34.1) (1.15.0)\n",
            "Installing collected packages: grpcio-tools\n",
            "Successfully installed grpcio-tools-1.34.1\n",
            "\u001b[K     |████████████████████████████████| 204 kB 7.0 MB/s \n",
            "\u001b[K     |████████████████████████████████| 52 kB 949 kB/s \n",
            "\u001b[K     |████████████████████████████████| 54 kB 3.5 MB/s \n",
            "\u001b[K     |████████████████████████████████| 79 kB 10.0 MB/s \n",
            "\u001b[K     |████████████████████████████████| 321 kB 69.5 MB/s \n",
            "\u001b[K     |████████████████████████████████| 330 kB 73.1 MB/s \n",
            "\u001b[K     |████████████████████████████████| 85 kB 5.1 MB/s \n",
            "\u001b[K     |████████████████████████████████| 981 kB 65.6 MB/s \n",
            "\u001b[K     |████████████████████████████████| 5.6 MB 49.3 MB/s \n",
            "\u001b[K     |████████████████████████████████| 100 kB 12.1 MB/s \n",
            "\u001b[K     |████████████████████████████████| 8.4 MB 62.1 MB/s \n",
            "\u001b[K     |████████████████████████████████| 402 kB 66.6 MB/s \n",
            "\u001b[K     |████████████████████████████████| 56 kB 5.5 MB/s \n",
            "\u001b[K     |████████████████████████████████| 50 kB 8.8 MB/s \n",
            "\u001b[K     |████████████████████████████████| 56 kB 6.2 MB/s \n",
            "\u001b[K     |████████████████████████████████| 51.5 MB 20 kB/s \n",
            "\u001b[K     |████████████████████████████████| 3.4 MB 61.4 MB/s \n",
            "\u001b[K     |████████████████████████████████| 3.8 MB 40.6 MB/s \n",
            "\u001b[K     |████████████████████████████████| 14.1 MB 29 kB/s \n",
            "\u001b[K     |████████████████████████████████| 43 kB 2.4 MB/s \n",
            "\u001b[K     |████████████████████████████████| 804.1 MB 2.7 kB/s \n",
            "\u001b[K     |████████████████████████████████| 131 kB 71.6 MB/s \n",
            "\u001b[K     |████████████████████████████████| 1.2 MB 66.4 MB/s \n",
            "\u001b[K     |████████████████████████████████| 327 kB 75.8 MB/s \n",
            "\u001b[K     |████████████████████████████████| 2.2 MB 22.4 MB/s \n",
            "\u001b[K     |████████████████████████████████| 2.5 MB 67.3 MB/s \n",
            "\u001b[K     |████████████████████████████████| 72 kB 674 kB/s \n",
            "\u001b[K     |████████████████████████████████| 78 kB 8.5 MB/s \n",
            "\u001b[K     |████████████████████████████████| 127 kB 68.3 MB/s \n",
            "\u001b[K     |████████████████████████████████| 3.1 MB 35.6 MB/s \n",
            "\u001b[K     |████████████████████████████████| 1.3 MB 61.3 MB/s \n",
            "\u001b[K     |████████████████████████████████| 10.1 MB 59.5 MB/s \n",
            "\u001b[K     |████████████████████████████████| 69 kB 9.2 MB/s \n",
            "\u001b[K     |████████████████████████████████| 895 kB 68.9 MB/s \n",
            "\u001b[K     |████████████████████████████████| 3.3 MB 39.8 MB/s \n",
            "\u001b[K     |████████████████████████████████| 1.1 MB 56.7 MB/s \n",
            "\u001b[K     |████████████████████████████████| 170 kB 69.8 MB/s \n",
            "\u001b[K     |████████████████████████████████| 345 kB 67.6 MB/s \n",
            "\u001b[K     |████████████████████████████████| 146 kB 69.1 MB/s \n",
            "\u001b[K     |████████████████████████████████| 56 kB 6.5 MB/s \n",
            "\u001b[K     |████████████████████████████████| 75 kB 5.5 MB/s \n",
            "\u001b[K     |████████████████████████████████| 85 kB 5.1 MB/s \n",
            "\u001b[K     |████████████████████████████████| 165 kB 67.1 MB/s \n",
            "\u001b[K     |████████████████████████████████| 3.2 MB 57.4 MB/s \n",
            "\u001b[K     |████████████████████████████████| 52 kB 1.9 MB/s \n",
            "\u001b[K     |████████████████████████████████| 63 kB 2.2 MB/s \n",
            "\u001b[K     |████████████████████████████████| 45 kB 4.8 MB/s \n",
            "\u001b[K     |████████████████████████████████| 142 kB 75.7 MB/s \n",
            "\u001b[K     |████████████████████████████████| 294 kB 64.2 MB/s \n",
            "\u001b[K     |████████████████████████████████| 7.8 MB 55.7 MB/s \n",
            "\u001b[K     |████████████████████████████████| 79 kB 9.3 MB/s \n",
            "\u001b[K     |████████████████████████████████| 127 kB 78.3 MB/s \n",
            "\u001b[K     |████████████████████████████████| 60 kB 10.2 MB/s \n",
            "\u001b[K     |████████████████████████████████| 52 kB 1.6 MB/s \n",
            "\u001b[K     |████████████████████████████████| 178 kB 75.2 MB/s \n",
            "\u001b[K     |████████████████████████████████| 376 kB 76.2 MB/s \n",
            "\u001b[K     |████████████████████████████████| 5.3 MB 59.2 MB/s \n",
            "\u001b[K     |████████████████████████████████| 338 kB 74.5 MB/s \n",
            "\u001b[K     |████████████████████████████████| 54 kB 4.2 MB/s \n",
            "\u001b[?25h  Building wheel for farm-haystack (setup.py) ... \u001b[?25l\u001b[?25hdone\n",
            "  Building wheel for alembic (setup.py) ... \u001b[?25l\u001b[?25hdone\n",
            "  Building wheel for databricks-cli (setup.py) ... \u001b[?25l\u001b[?25hdone\n",
            "  Building wheel for gpustat (setup.py) ... \u001b[?25l\u001b[?25hdone\n",
            "  Building wheel for langdetect (setup.py) ... \u001b[?25l\u001b[?25hdone\n",
            "  Building wheel for prometheus-flask-exporter (setup.py) ... \u001b[?25l\u001b[?25hdone\n",
            "  Building wheel for python-docx (setup.py) ... \u001b[?25l\u001b[?25hdone\n",
            "  Building wheel for python-multipart (setup.py) ... \u001b[?25l\u001b[?25hdone\n",
            "  Building wheel for seqeval (setup.py) ... \u001b[?25l\u001b[?25hdone\n",
            "  Building wheel for tika (setup.py) ... \u001b[?25l\u001b[?25hdone\n",
            "\u001b[31mERROR: pip's dependency resolver does not currently take into account all the packages that are installed. This behaviour is the source of the following dependency conflicts.\n",
            "torchvision 0.10.0+cu102 requires torch==1.9.0, but you have torch 1.8.1 which is incompatible.\n",
            "torchtext 0.10.0 requires torch==1.9.0, but you have torch 1.8.1 which is incompatible.\n",
            "pytest 3.6.4 requires pluggy<0.8,>=0.5, but you have pluggy 0.13.1 which is incompatible.\n",
            "datascience 0.10.6 requires folium==0.2.1, but you have folium 0.8.3 which is incompatible.\u001b[0m\n"
          ],
          "name": "stdout"
        }
      ]
    },
    {
      "cell_type": "code",
      "metadata": {
        "colab": {
          "base_uri": "https://localhost:8080/"
        },
        "id": "QHIurKhwqIhD",
        "outputId": "89678153-1f16-4a93-c93d-d56e7ffcafda"
      },
      "source": [
        "!pip install wikipedia -qqq"
      ],
      "execution_count": 2,
      "outputs": [
        {
          "output_type": "stream",
          "text": [
            "  Building wheel for wikipedia (setup.py) ... \u001b[?25l\u001b[?25hdone\n"
          ],
          "name": "stdout"
        }
      ]
    },
    {
      "cell_type": "code",
      "metadata": {
        "id": "TCqSXyl1vjHb"
      },
      "source": [
        "# BUILDING KNOWLEDGE BASE (this is not training data)"
      ],
      "execution_count": 3,
      "outputs": []
    },
    {
      "cell_type": "code",
      "metadata": {
        "colab": {
          "base_uri": "https://localhost:8080/"
        },
        "id": "qQ5qlWQJvmOH",
        "outputId": "be208abe-2193-4b7d-c8ba-b5e46aa8873d"
      },
      "source": [
        "from pathlib import Path\n",
        "import wikipedia as wik\n",
        "\n",
        "TOPIC = 'Narendra Modi' # give the topic you want to build chatbot for\n",
        "N_DOCS = 30 # minimum 600\n",
        "\n",
        "write_dir = Path('data') / f'wiki_txt_{TOPIC}'\n",
        "write_dir.mkdir(exist_ok=True, parents=True)\n",
        "\n",
        "wik.set_lang(\"en\")\n",
        "page_names = wik.search(TOPIC, results=N_DOCS)\n",
        "cntr = 0\n",
        "for name in page_names:\n",
        "  try:\n",
        "    pg = wik.page(name)\n",
        "    with open(str(write_dir/name)+'.txt', 'w') as f:\n",
        "      f.write(pg.content)\n",
        "\n",
        "    cntr+=1\n",
        "    print('✔ added to knowledge base:', name)\n",
        "  except:\n",
        "    print('❌could not process:', name)\n",
        "\n",
        "print('added total:', cntr, 'wiki pages')"
      ],
      "execution_count": 18,
      "outputs": [
        {
          "output_type": "stream",
          "text": [
            "✔ added to knowledge base: Narendra Modi\n",
            "✔ added to knowledge base: Narendra Modi Stadium\n",
            "✔ added to knowledge base: PM Narendra Modi\n",
            "✔ added to knowledge base: Foreign policy of the Narendra Modi government\n",
            "✔ added to knowledge base: Premiership of Narendra Modi\n",
            "✔ added to knowledge base: List of international prime ministerial trips made by Narendra Modi\n",
            "✔ added to knowledge base: Jashodaben Modi\n",
            "✔ added to knowledge base: Opinion polling on the Narendra Modi premiership\n",
            "✔ added to knowledge base: Public image of Narendra Modi\n",
            "✔ added to knowledge base: Bibliography of Narendra Modi\n",
            "✔ added to knowledge base: First Modi ministry\n",
            "✔ added to knowledge base: Modi ministry\n",
            "✔ added to knowledge base: Sanjay Joshi\n",
            "✔ added to knowledge base: Second Modi ministry\n",
            "✔ added to knowledge base: Electoral history of Narendra Modi\n",
            "✔ added to knowledge base: List of nicknames of the prime ministers of India\n",
            "✔ added to knowledge base: List of things named after the prime ministers of India\n",
            "✔ added to knowledge base: Narendra Singh Tomar\n",
            "✔ added to knowledge base: Modi: Journey of a Common Man\n",
            "✔ added to knowledge base: Second swearing-in ceremony of Narendra Modi\n",
            "✔ added to knowledge base: India–United States relations\n",
            "✔ added to knowledge base: Asit Kumarr Modi\n",
            "✔ added to knowledge base: Next Indian general election\n",
            "✔ added to knowledge base: First swearing-in ceremony of Narendra Modi\n",
            "✔ added to knowledge base: Bhutan–India relations\n",
            "✔ added to knowledge base: Prime Minister of India\n",
            "✔ added to knowledge base: Sanjiv Bhatt\n",
            "✔ added to knowledge base: Afghanistan–India relations\n",
            "✔ added to knowledge base: Sardar Vallabhbhai Patel Sports Enclave\n",
            "✔ added to knowledge base: Union Council of Ministers\n",
            "added total: 30 wiki pages\n"
          ],
          "name": "stdout"
        }
      ]
    },
    {
      "cell_type": "code",
      "metadata": {
        "id": "34h9Udyc1J_j"
      },
      "source": [
        "# SETUP HAYSTACK"
      ],
      "execution_count": 12,
      "outputs": []
    },
    {
      "cell_type": "code",
      "metadata": {
        "id": "a4EcyXNcnox5"
      },
      "source": [
        "from haystack.preprocessor.cleaning import clean_wiki_text\n",
        "from haystack.preprocessor.utils import convert_files_to_dicts, fetch_archive_from_http\n",
        "from haystack.reader.farm import FARMReader\n",
        "from haystack.reader.transformers import TransformersReader\n",
        "from haystack.utils import print_answers"
      ],
      "execution_count": 13,
      "outputs": []
    },
    {
      "cell_type": "code",
      "metadata": {
        "id": "0Y8mEEcvnox6"
      },
      "source": [
        "# Note: Does not work in colab\n",
        "# # Recommended: Start Elasticsearch using Docker via the Haystack utility function\n",
        "# from haystack.utils import launch_es\n",
        "\n",
        "# launch_es()"
      ],
      "execution_count": 14,
      "outputs": []
    },
    {
      "cell_type": "code",
      "metadata": {
        "id": "iyDXL0xtnox7"
      },
      "source": [
        "# In Colab / No Docker environments: Start Elasticsearch from source\n",
        "! wget https://artifacts.elastic.co/downloads/elasticsearch/elasticsearch-7.9.2-linux-x86_64.tar.gz -q\n",
        "! tar -xzf elasticsearch-7.9.2-linux-x86_64.tar.gz\n",
        "! chown -R daemon:daemon elasticsearch-7.9.2\n",
        "\n",
        "import os\n",
        "from subprocess import Popen, PIPE, STDOUT\n",
        "es_server = Popen(['elasticsearch-7.9.2/bin/elasticsearch'],\n",
        "                   stdout=PIPE, stderr=STDOUT,\n",
        "                   preexec_fn=lambda: os.setuid(1)  # as daemon\n",
        "                  )\n",
        "# wait until ES has started\n",
        "! sleep 30"
      ],
      "execution_count": 15,
      "outputs": []
    },
    {
      "cell_type": "code",
      "metadata": {
        "pycharm": {
          "name": "#%%\n"
        },
        "id": "B-yfGCTunox8",
        "colab": {
          "base_uri": "https://localhost:8080/"
        },
        "outputId": "0a725c2d-3feb-4b15-ec67-bd5d97069208"
      },
      "source": [
        "# Connect to Elasticsearch\n",
        "\n",
        "from haystack.document_store.elasticsearch import ElasticsearchDocumentStore\n",
        "document_store = ElasticsearchDocumentStore(host=\"localhost\", username=\"\", password=\"\", index=\"document\")"
      ],
      "execution_count": 16,
      "outputs": [
        {
          "output_type": "stream",
          "text": [
            "08/16/2021 21:20:58 - INFO - elasticsearch -   HEAD http://localhost:9200/ [status:200 request:0.011s]\n",
            "08/16/2021 21:20:58 - INFO - elasticsearch -   HEAD http://localhost:9200/document [status:200 request:0.008s]\n",
            "08/16/2021 21:20:58 - INFO - elasticsearch -   GET http://localhost:9200/document [status:200 request:0.006s]\n",
            "08/16/2021 21:20:58 - INFO - elasticsearch -   PUT http://localhost:9200/document/_mapping [status:200 request:0.018s]\n",
            "08/16/2021 21:20:58 - INFO - elasticsearch -   HEAD http://localhost:9200/label [status:200 request:0.002s]\n"
          ],
          "name": "stderr"
        }
      ]
    },
    {
      "cell_type": "markdown",
      "metadata": {
        "pycharm": {
          "name": "#%% md\n"
        },
        "id": "YeIRfY-ynox9"
      },
      "source": [
        "## Preprocessing of documents\n",
        "\n",
        "Haystack provides a customizable pipeline for:\n",
        " - converting files into texts\n",
        " - cleaning texts\n",
        " - splitting texts\n",
        " - writing them to a Document Store\n",
        "\n",
        "In this tutorial, we download Wikipedia articles about Game of Thrones, apply a basic cleaning function, and index them in Elasticsearch."
      ]
    },
    {
      "cell_type": "code",
      "metadata": {
        "pycharm": {
          "name": "#%%\n"
        },
        "id": "MXsUJ97bnox9",
        "colab": {
          "base_uri": "https://localhost:8080/"
        },
        "outputId": "dab71afa-630c-4691-c722-9c87b63d05fd"
      },
      "source": [
        "# Path to knowledge base\n",
        "doc_dir = str(write_dir)\n",
        "\n",
        "# Convert files to dicts\n",
        "# You can optionally supply a cleaning function that is applied to each doc (e.g. to remove footers)\n",
        "# It must take a str as input, and return a str.\n",
        "dicts = convert_files_to_dicts(dir_path=doc_dir, clean_func=clean_wiki_text, split_paragraphs=True)\n",
        "\n",
        "# We now have a list of dictionaries that we can write to our document store.\n",
        "# If your texts come from a different source (e.g. a DB), you can of course skip convert_files_to_dicts() and create the dictionaries yourself.\n",
        "# The default format here is:\n",
        "# {\n",
        "#    'text': \"<DOCUMENT_TEXT_HERE>\",\n",
        "#    'meta': {'name': \"<DOCUMENT_NAME_HERE>\", ...}\n",
        "#}\n",
        "# (Optionally: you can also add more key-value-pairs here, that will be indexed as fields in Elasticsearch and\n",
        "# can be accessed later for filtering or shown in the responses of the Pipeline)\n",
        "\n",
        "# Let's have a look at the first 3 entries:\n",
        "print(dicts[:3])\n",
        "\n",
        "# Now, let's write the dicts containing documents to our DB.\n",
        "document_store.write_documents(dicts)"
      ],
      "execution_count": 19,
      "outputs": [
        {
          "output_type": "stream",
          "text": [
            "08/16/2021 21:22:11 - INFO - haystack.preprocessor.utils -   Converting data/wiki_txt_Narendra Modi/Afghanistan–India relations.txt\n",
            "08/16/2021 21:22:11 - INFO - haystack.preprocessor.utils -   Converting data/wiki_txt_Narendra Modi/Narendra Modi Stadium.txt\n",
            "08/16/2021 21:22:11 - INFO - haystack.preprocessor.utils -   Converting data/wiki_txt_Narendra Modi/Sanjiv Bhatt.txt\n",
            "08/16/2021 21:22:11 - INFO - haystack.preprocessor.utils -   Converting data/wiki_txt_Narendra Modi/List of nicknames of the prime ministers of India.txt\n",
            "08/16/2021 21:22:11 - INFO - haystack.preprocessor.utils -   Converting data/wiki_txt_Narendra Modi/Union Council of Ministers.txt\n",
            "08/16/2021 21:22:11 - INFO - haystack.preprocessor.utils -   Converting data/wiki_txt_Narendra Modi/Opinion polling on the Narendra Modi premiership.txt\n",
            "08/16/2021 21:22:11 - INFO - haystack.preprocessor.utils -   Converting data/wiki_txt_Narendra Modi/Sanjay Joshi.txt\n",
            "08/16/2021 21:22:11 - INFO - haystack.preprocessor.utils -   Converting data/wiki_txt_Narendra Modi/List of things named after the prime ministers of India.txt\n",
            "08/16/2021 21:22:11 - INFO - haystack.preprocessor.utils -   Converting data/wiki_txt_Narendra Modi/Premiership of Narendra Modi.txt\n",
            "08/16/2021 21:22:11 - INFO - haystack.preprocessor.utils -   Converting data/wiki_txt_Narendra Modi/Narendra Singh Tomar.txt\n",
            "08/16/2021 21:22:11 - INFO - haystack.preprocessor.utils -   Converting data/wiki_txt_Narendra Modi/India–United States relations.txt\n",
            "08/16/2021 21:22:11 - INFO - haystack.preprocessor.utils -   Converting data/wiki_txt_Narendra Modi/Foreign policy of the Narendra Modi government.txt\n",
            "08/16/2021 21:22:11 - INFO - haystack.preprocessor.utils -   Converting data/wiki_txt_Narendra Modi/Bibliography of Narendra Modi.txt\n",
            "08/16/2021 21:22:11 - INFO - haystack.preprocessor.utils -   Converting data/wiki_txt_Narendra Modi/Asit Kumarr Modi.txt\n",
            "08/16/2021 21:22:11 - INFO - haystack.preprocessor.utils -   Converting data/wiki_txt_Narendra Modi/Next Indian general election.txt\n",
            "08/16/2021 21:22:11 - INFO - haystack.preprocessor.utils -   Converting data/wiki_txt_Narendra Modi/Jashodaben Modi.txt\n",
            "08/16/2021 21:22:11 - INFO - haystack.preprocessor.utils -   Converting data/wiki_txt_Narendra Modi/Bhutan–India relations.txt\n",
            "08/16/2021 21:22:11 - INFO - haystack.preprocessor.utils -   Converting data/wiki_txt_Narendra Modi/Public image of Narendra Modi.txt\n",
            "08/16/2021 21:22:11 - INFO - haystack.preprocessor.utils -   Converting data/wiki_txt_Narendra Modi/First swearing-in ceremony of Narendra Modi.txt\n",
            "08/16/2021 21:22:11 - INFO - haystack.preprocessor.utils -   Converting data/wiki_txt_Narendra Modi/Modi ministry.txt\n",
            "08/16/2021 21:22:11 - INFO - haystack.preprocessor.utils -   Converting data/wiki_txt_Narendra Modi/First Modi ministry.txt\n",
            "08/16/2021 21:22:11 - INFO - haystack.preprocessor.utils -   Converting data/wiki_txt_Narendra Modi/PM Narendra Modi.txt\n",
            "08/16/2021 21:22:11 - INFO - haystack.preprocessor.utils -   Converting data/wiki_txt_Narendra Modi/Second swearing-in ceremony of Narendra Modi.txt\n",
            "08/16/2021 21:22:11 - INFO - haystack.preprocessor.utils -   Converting data/wiki_txt_Narendra Modi/Modi: Journey of a Common Man.txt\n",
            "08/16/2021 21:22:11 - INFO - haystack.preprocessor.utils -   Converting data/wiki_txt_Narendra Modi/Sardar Vallabhbhai Patel Sports Enclave.txt\n",
            "08/16/2021 21:22:11 - INFO - haystack.preprocessor.utils -   Converting data/wiki_txt_Narendra Modi/Electoral history of Narendra Modi.txt\n",
            "08/16/2021 21:22:11 - INFO - haystack.preprocessor.utils -   Converting data/wiki_txt_Narendra Modi/Second Modi ministry.txt\n",
            "08/16/2021 21:22:11 - INFO - haystack.preprocessor.utils -   Converting data/wiki_txt_Narendra Modi/Narendra Modi.txt\n",
            "08/16/2021 21:22:11 - INFO - haystack.preprocessor.utils -   Converting data/wiki_txt_Narendra Modi/Prime Minister of India.txt\n",
            "08/16/2021 21:22:11 - INFO - haystack.preprocessor.utils -   Converting data/wiki_txt_Narendra Modi/List of international prime ministerial trips made by Narendra Modi.txt\n"
          ],
          "name": "stderr"
        },
        {
          "output_type": "stream",
          "text": [
            "[{'text': 'Afghanistan and India have remained strong and friendly over the decades. They had been historical neighbours, and share cultural ties through Bollywood and cricket.The Republic of India was the only South Asian country to recognize the Soviet-backed Democratic Republic of Afghanistan in the 1980s, though relations were diminished during the 1990s Afghan civil war and the Taliban government. India aided the overthrow of the Taliban and became the largest regional provider of humanitarian and reconstruction aid to the present day Islamic Republic of Afghanistan. Indians are working in various construction projects, as part of India\\'s rebuilding efforts in Afghanistan. Pakistan alleges the India\\'s foreign intelligence agency R&AW is working in cover to malign Pakistan and train and support insurgents, a claim rejected strongly by India.Shaida Mohammad Abdali, Afghanistan\\'s ambassador to India, in April 2017 pointed out that India \"is the biggest regional donor to Afghanistan and fifth largest donor globally with over $3 billion in assistance. India has built over 200 public and private schools, sponsors over 1,000 scholarships, hosts over 16,000 Afghan students.\" Relations between Afghanistan and India received a major boost in 2011 with the signing of a strategic partnership agreement, Afghanistan\\'s first since the Soviet invasion of 1979.A major shift in India\\'s position on Afghan Taliban was reported by a top Qatar official in June 2021, revealing that an Indian delegation quietly visited Doha to meet Taliban\\'s leadership. This is a major shift that was several weeks in the making in the first half of 2021, and likely involved Qatari mediation between India and the Taliban.', 'meta': {'name': 'Afghanistan–India relations.txt'}}, {'text': '\\n== History ==\\nRelations between the people of Afghanistan and India traces to the Indus Valley Civilisation. Following Alexander the Great\\'s brief occupation, the successor state of the Seleucid Empire controlled the region known today as Afghanistan. In 305 BCE, they ceded much of it to the Indian Maurya Empire as part of an alliance treaty.Alexander took these away from the Aryans and established settlements of his own, but Seleucus Nicator gave them to Sandrocottus (Chandragupta), upon terms of intermarriage and of receiving in exchange 500 elephants. The Mauryans controlled the area south of the Hindu Kush, and during this period Hinduism and Buddhism prevailed. Their decline began 60 years after Ashoka\\'s rule ended, leading to the Hellenistic reconquest of the region by the Greco-Bactrians. Much of it soon broke away from the Greco-Bactrians and became part of the Indo-Greek Kingdom. The Indo-Greeks had been defeated and expelled by the Indo-Scythians in the late 2nd century BCE. Much of Afghanistan has been influenced by Buddhist, Hindu and Zoroastrian cultures until the arrival of Islam in the 7th century. But despite many Afghans converting to Islam, the Muslims and Hindus lived side by side. Many of the kingdoms that ruled over present-day Afghanistan between the 8th century BCE and the 10th century A.D like the Greco-Bactrian kingdom, Indo-Greek Kingdom, Mauryan Empire, Indo-Scythians, Huns and at last the Kabul Shahis were made up of adherents of Greek polytheism, Zoroastrianism (Mainly in the Northwest) and Buddhism-Hinduism (Mainly in the Southeast). \"Kabul has a castle celebrated for its strength, accessible only by one road. In it there are Musulmáns, and it has a town, in which are infidels from Hind.\"\\nBetween the 10th century to the mid 18th century, northern India has been invaded by a number of invaders based in what today is Afghanistan. Among them were the Ghaznavids, Ghurids, Khaljis, Suris, Mughals and Durranis. During these eras, especially during the Mughal period (1526–1858), many Afghans began immigrating to India due to political unrest in their regions.\\nKhan Abdul Ghaffar Khan and Khan Sahib were prominent leaders of the Indian independence movement and active supporters of the Indian National Congress. Although the NWFP became part of Pakistan in 1947, active Pashtun support for the Indian freedom struggle led to great sympathy in India for the cause of Pashtun autonomy and freedom. The Indian government continued to support Pashtun leader Khan Abdul Ghaffar Khan in lobbying for greater Pashtun freedom in the NWFP. Indians are working in various construction projects, as part of India\\'s rebuilding efforts in Afghanistan, although the Indian intelligence agency RAW is accused by countries such as Pakistan of working to malign Pakistan and train & support insurgents. These workers are estimated to be anywhere between 3,000 and 4,000. Indian nationals stationed in Afghanistan have often faced continuous security threats in the country, with kidnappings and many attacks (such as the February 2010 Kabul attack) deliberately carried out on them.\\nIn January 1950, a five-year Treaty of Friendship was signed between the two countries in New Delhi. Other than affirming \"everlasting peace and friendship between the two Governments\", the treaty provided for establishment of diplomatic and consular posts in each other\\'s territories.India recognized the new Republic of Afghanistan on July 19, 1973. Indian foreign minister Swaran Singh visited Afghan President Mohammed Daoud Khan in October that year, and Khan visited India in March 1975. On July 7, 1974, the two countries signed a trade protocol.', 'meta': {'name': 'Afghanistan–India relations.txt'}}, {'text': \"\\n=== Soviet occupation to Taliban regime ===\\nThe Republic of India was the only South Asian nation to recognise the Soviet-backed Democratic Republic of Afghanistan and the Soviet Union's military presence in Afghan territories, and provided humanitarian aid to President Najibullah's Government in Afghanistan. Following the withdrawal of the Soviet armed forces from Afghanistan in 1989, India continued to support Najibullah's government with humanitarian aid. After its fall, India together with the international community supported the coalition government that took control, but relations and contacts ended with the outbreak of another civil war, which brought to power the Taliban, an Islamist militia supported by Pakistan. The Taliban regime was recognized only by Pakistan, Saudi Arabia, and the United Arab Emirates (UAE). The destruction of the Bamiyan Buddha monuments by the Taliban led to outrage and angry protests by India. Similarly the Taliban's move in 2001 to require Afghan Hindus to wear identification patches, reminiscent of Nazi policies, was heavily criticised by India. In 1999, the hijacked Indian Airlines Flight 814 landed and stayed in Kandahar in Afghanistan and the Taliban were suspected of supporting them.India became one of the key supporters of the anti-Taliban Northern Alliance.\", 'meta': {'name': 'Afghanistan–India relations.txt'}}]\n"
          ],
          "name": "stdout"
        },
        {
          "output_type": "stream",
          "text": [
            "08/16/2021 21:22:13 - INFO - elasticsearch -   POST http://localhost:9200/_bulk?refresh=wait_for [status:200 request:1.228s]\n"
          ],
          "name": "stderr"
        }
      ]
    },
    {
      "cell_type": "markdown",
      "metadata": {
        "id": "zu7k1t7Tnox-"
      },
      "source": [
        "## Initalize Retriever, Reader,  & Pipeline\n",
        "\n",
        "### Retriever\n",
        "\n",
        "Retrievers help narrowing down the scope for the Reader to smaller units of text where a given question could be answered.\n",
        "They use some simple but fast algorithm.\n",
        "\n",
        "**Here:** We use Elasticsearch's default BM25 algorithm\n",
        "\n",
        "**Alternatives:**\n",
        "\n",
        "- Customize the `ElasticsearchRetriever`with custom queries (e.g. boosting) and filters\n",
        "- Use `TfidfRetriever` in combination with a SQL or InMemory Document store for simple prototyping and debugging\n",
        "- Use `EmbeddingRetriever` to find candidate documents based on the similarity of embeddings (e.g. created via Sentence-BERT)\n",
        "- Use `DensePassageRetriever` to use different embedding models for passage and query (see Tutorial 6)"
      ]
    },
    {
      "cell_type": "code",
      "metadata": {
        "id": "gnWPNeiynox-"
      },
      "source": [
        "from haystack.retriever.sparse import ElasticsearchRetriever\n",
        "retriever = ElasticsearchRetriever(document_store=document_store)"
      ],
      "execution_count": 20,
      "outputs": []
    },
    {
      "cell_type": "code",
      "metadata": {
        "pycharm": {
          "is_executing": false,
          "name": "#%%\n"
        },
        "id": "j6OWk06wnox_"
      },
      "source": [
        "# Alternative: An in-memory TfidfRetriever based on Pandas dataframes for building quick-prototypes with SQLite document store.\n",
        "\n",
        "# from haystack.retriever.sparse import TfidfRetriever\n",
        "# retriever = TfidfRetriever(document_store=document_store)"
      ],
      "execution_count": 21,
      "outputs": []
    },
    {
      "cell_type": "markdown",
      "metadata": {
        "id": "l8fzkIvRnox_"
      },
      "source": [
        "### Reader\n",
        "\n",
        "A Reader scans the texts returned by retrievers in detail and extracts the k best answers. They are based\n",
        "on powerful, but slower deep learning models.\n",
        "\n",
        "Haystack currently supports Readers based on the frameworks FARM and Transformers.\n",
        "With both you can either load a local model or one from Hugging Face's model hub (https://huggingface.co/models).\n",
        "\n",
        "**Here:** a medium sized RoBERTa QA model using a Reader based on FARM (https://huggingface.co/deepset/roberta-base-squad2)\n",
        "\n",
        "**Alternatives (Reader):** TransformersReader (leveraging the `pipeline` of the Transformers package)\n",
        "\n",
        "**Alternatives (Models):** e.g. \"distilbert-base-uncased-distilled-squad\" (fast) or \"deepset/bert-large-uncased-whole-word-masking-squad2\" (good accuracy)\n",
        "\n",
        "**Hint:** You can adjust the model to return \"no answer possible\" with the no_ans_boost. Higher values mean the model prefers \"no answer possible\"\n",
        "\n",
        "#### FARMReader"
      ]
    },
    {
      "cell_type": "code",
      "metadata": {
        "pycharm": {
          "is_executing": false
        },
        "id": "Q_qc06PQnox_",
        "colab": {
          "base_uri": "https://localhost:8080/",
          "height": 824,
          "referenced_widgets": [
            "0cedd3ed39d34cbdb82ee3e245b8b87d",
            "64eed5178e56485a9c41825c0295ba5d",
            "a9ed775effb345be88c8b3e8f05d7883",
            "f149423c69294d29ae6477ec71892c44",
            "e30893f2f4994640a37021c70458ddbd",
            "f72368a3bd8b47df963494ae0b3e5935",
            "130ef037ea404386a1dd986856cb807e",
            "dd1e1597121e40d390aaba2acc599a1e",
            "07e8725628e24849832194409194c5b0",
            "9933b52294fc45b486068f54b180b63f",
            "83b27fcef7244b13baaec22911f31866",
            "05975c88241442e1aa98827d5ff92c3b",
            "73708c4679ab468bb371c9772bf09b1a",
            "24b5cdf23e9d4e6bb716ce53e3d54697",
            "ed13fefb45244e9289641e32b562722a",
            "5ba9069d864c423b9addd65c3b0d3491",
            "da834b8a1f934e039fd9dee07c166fe2",
            "a8deb8f171534de3a443b4ea80aabb17",
            "3af7142d994d493ca536fa9c49f19d0f",
            "ac5bc71ab4d84570b99a253227d9cfb6",
            "f8a57aaa998640719f2cef8faddb79e5",
            "45d08c44879e4cb68d30d08ebca1d911",
            "f27764b22cd04b8c98a233ff1e62db5a",
            "696afc17a6c541caae30a695c64c0032",
            "5678d22ed85d4602b1ca2bc3cb44360a",
            "98bbb4485cc0456e88d8a19dd68add1a",
            "cda05761f76c4f659992157f2aa8cbb5",
            "30c01e5bcbdb4514a0f4c781a9da5b14",
            "9be5abcb4e6548778d1870e320baeccd",
            "7e1c455ebf34461295a3236800738107",
            "014f06b8a8e94edd81ec4099d22a2bd4",
            "011cd65f77e446c095b22fbc4a2ceee5",
            "dbd5d8ac40b44d69922fb46f4f953b5e",
            "6a208a592681477f81715fa8c832d189",
            "7d39b693e3c945c9a1ead6fa14d6cc8a",
            "c55a0a795bf04ea5a97a1815d2cf11a9",
            "b7acb68b2da3438e92a9fcd0c8c4cab9",
            "5ee556c1a3c543429f8a714c6390b771",
            "2475a4764a9e4defa8fc1fe57294d03c",
            "39fb79baca3a4965ac50a9c31d1df433",
            "e436e611dffd44f4ac2eb55cb53ab882",
            "59fbb93fc3064b0a8e9690e4151ca0cf",
            "25d2ca7327ec487d9e7d534fd5ca7511",
            "b248bbd3f6b946a69713d908551d64dd",
            "15e8520a128a40c5841dee483826bbc3",
            "2aefb285b8f14299954244bc830f1e4d",
            "767a1232ef87467bb7350a55953a984e",
            "98ced67b7b2340dd8ce8a61127d7499f",
            "ccb4111cf34041a6a14fc29abeaa7649",
            "f8798ec480b24119a3197b6a3e07d9e8",
            "5611a8f2713b47d48d7223d8ffb07229",
            "dd68c4c9c5154426afde3f6a303ad2ad",
            "3b89b7a44c124931a7f1a22fe5151a25",
            "e7c7f1fd99de49bb87d20e0cd5533771",
            "e99b222cb23342af9bf7cfee8ba99206",
            "4532bbecc2b643788a1af249d249c4d0",
            "adcfc0f0b6f94421a41cc165d4052be7",
            "8f4788ec15904d549e6610b3814912d4",
            "0004405cc608495bb98849d766a63f6b",
            "7ecc9a90c1844560b241522321eccefc",
            "6a60839465f7400c9e308f753f88e4cc",
            "98df50cecac94c099bcc8d6d1b6be248",
            "82dbc7330fd04d9d8c95278d7445b1b8",
            "e82fc135e17b4930827a16f56c9df753",
            "ccef4e6583764397b5780d8552895654",
            "daf0dc417d114c9cb8193a9308d62e3f"
          ]
        },
        "outputId": "8a0eb2cf-4d59-4654-e6d3-d0ff53a7e48f"
      },
      "source": [
        "# Load a  local model or any of the QA models on\n",
        "# Hugging Face's model hub (https://huggingface.co/models)\n",
        "\n",
        "reader = FARMReader(model_name_or_path=\"deepset/roberta-base-squad2\", use_gpu=True)"
      ],
      "execution_count": 22,
      "outputs": [
        {
          "output_type": "stream",
          "text": [
            "08/16/2021 21:22:36 - INFO - farm.utils -   Using device: CUDA \n",
            "08/16/2021 21:22:36 - INFO - farm.utils -   Number of GPUs: 1\n",
            "08/16/2021 21:22:36 - INFO - farm.utils -   Distributed Training: False\n",
            "08/16/2021 21:22:36 - INFO - farm.utils -   Automatic Mixed Precision: None\n",
            "08/16/2021 21:22:36 - INFO - filelock -   Lock 140655588346768 acquired on /root/.cache/huggingface/transformers/c40d0abb589629c48763f271020d0b1f602f5208c432c0874d420491ed37e28b.122ed338b3591c07dba452777c59ff52330edb340d3d56d67aa9117ad9905673.lock\n"
          ],
          "name": "stderr"
        },
        {
          "output_type": "display_data",
          "data": {
            "application/vnd.jupyter.widget-view+json": {
              "model_id": "0cedd3ed39d34cbdb82ee3e245b8b87d",
              "version_minor": 0,
              "version_major": 2
            },
            "text/plain": [
              "Downloading:   0%|          | 0.00/571 [00:00<?, ?B/s]"
            ]
          },
          "metadata": {
            "tags": []
          }
        },
        {
          "output_type": "stream",
          "text": [
            "08/16/2021 21:22:36 - INFO - filelock -   Lock 140655588346768 released on /root/.cache/huggingface/transformers/c40d0abb589629c48763f271020d0b1f602f5208c432c0874d420491ed37e28b.122ed338b3591c07dba452777c59ff52330edb340d3d56d67aa9117ad9905673.lock\n",
            "08/16/2021 21:22:37 - INFO - filelock -   Lock 140658662486928 acquired on /root/.cache/huggingface/transformers/eac3273a8097dda671e3bea1db32c616e74f36a306c65b4858171c98d6db83e9.084aa7284f3a51fa1c8f0641aa04c47d366fbd18711f29d0a995693cfdbc9c9e.lock\n"
          ],
          "name": "stderr"
        },
        {
          "output_type": "display_data",
          "data": {
            "application/vnd.jupyter.widget-view+json": {
              "model_id": "05975c88241442e1aa98827d5ff92c3b",
              "version_minor": 0,
              "version_major": 2
            },
            "text/plain": [
              "Downloading:   0%|          | 0.00/496M [00:00<?, ?B/s]"
            ]
          },
          "metadata": {
            "tags": []
          }
        },
        {
          "output_type": "stream",
          "text": [
            "08/16/2021 21:22:48 - INFO - filelock -   Lock 140658662486928 released on /root/.cache/huggingface/transformers/eac3273a8097dda671e3bea1db32c616e74f36a306c65b4858171c98d6db83e9.084aa7284f3a51fa1c8f0641aa04c47d366fbd18711f29d0a995693cfdbc9c9e.lock\n",
            "Some weights of the model checkpoint at deepset/roberta-base-squad2 were not used when initializing RobertaModel: ['qa_outputs.weight', 'qa_outputs.bias']\n",
            "- This IS expected if you are initializing RobertaModel from the checkpoint of a model trained on another task or with another architecture (e.g. initializing a BertForSequenceClassification model from a BertForPreTraining model).\n",
            "- This IS NOT expected if you are initializing RobertaModel from the checkpoint of a model that you expect to be exactly identical (initializing a BertForSequenceClassification model from a BertForSequenceClassification model).\n",
            "Some weights of RobertaModel were not initialized from the model checkpoint at deepset/roberta-base-squad2 and are newly initialized: ['roberta.pooler.dense.bias', 'roberta.pooler.dense.weight']\n",
            "You should probably TRAIN this model on a down-stream task to be able to use it for predictions and inference.\n",
            "08/16/2021 21:22:59 - INFO - filelock -   Lock 140655444632336 acquired on /root/.cache/huggingface/transformers/81c80edb4c6cefa5cae64ccfdb34b3b309ecaf60da99da7cd1c17e24a5d36eb5.647b4548b6d9ea817e82e7a9231a320231a1c9ea24053cc9e758f3fe68216f05.lock\n"
          ],
          "name": "stderr"
        },
        {
          "output_type": "display_data",
          "data": {
            "application/vnd.jupyter.widget-view+json": {
              "model_id": "f27764b22cd04b8c98a233ff1e62db5a",
              "version_minor": 0,
              "version_major": 2
            },
            "text/plain": [
              "Downloading:   0%|          | 0.00/899k [00:00<?, ?B/s]"
            ]
          },
          "metadata": {
            "tags": []
          }
        },
        {
          "output_type": "stream",
          "text": [
            "08/16/2021 21:23:00 - INFO - filelock -   Lock 140655444632336 released on /root/.cache/huggingface/transformers/81c80edb4c6cefa5cae64ccfdb34b3b309ecaf60da99da7cd1c17e24a5d36eb5.647b4548b6d9ea817e82e7a9231a320231a1c9ea24053cc9e758f3fe68216f05.lock\n",
            "08/16/2021 21:23:00 - INFO - filelock -   Lock 140655444634704 acquired on /root/.cache/huggingface/transformers/b87d46371731376b11768b7839b1a5938a4f77d6bd2d9b683f167df0026af432.5d12962c5ee615a4c803841266e9c3be9a691a924f72d395d3a6c6c81157788b.lock\n"
          ],
          "name": "stderr"
        },
        {
          "output_type": "display_data",
          "data": {
            "application/vnd.jupyter.widget-view+json": {
              "model_id": "6a208a592681477f81715fa8c832d189",
              "version_minor": 0,
              "version_major": 2
            },
            "text/plain": [
              "Downloading:   0%|          | 0.00/456k [00:00<?, ?B/s]"
            ]
          },
          "metadata": {
            "tags": []
          }
        },
        {
          "output_type": "stream",
          "text": [
            "08/16/2021 21:23:01 - INFO - filelock -   Lock 140655444634704 released on /root/.cache/huggingface/transformers/b87d46371731376b11768b7839b1a5938a4f77d6bd2d9b683f167df0026af432.5d12962c5ee615a4c803841266e9c3be9a691a924f72d395d3a6c6c81157788b.lock\n",
            "08/16/2021 21:23:01 - INFO - filelock -   Lock 140655586858512 acquired on /root/.cache/huggingface/transformers/c9d2c178fac8d40234baa1833a3b1903d393729bf93ea34da247c07db24900d0.cb2244924ab24d706b02fd7fcedaea4531566537687a539ebb94db511fd122a0.lock\n"
          ],
          "name": "stderr"
        },
        {
          "output_type": "display_data",
          "data": {
            "application/vnd.jupyter.widget-view+json": {
              "model_id": "15e8520a128a40c5841dee483826bbc3",
              "version_minor": 0,
              "version_major": 2
            },
            "text/plain": [
              "Downloading:   0%|          | 0.00/772 [00:00<?, ?B/s]"
            ]
          },
          "metadata": {
            "tags": []
          }
        },
        {
          "output_type": "stream",
          "text": [
            "08/16/2021 21:23:02 - INFO - filelock -   Lock 140655586858512 released on /root/.cache/huggingface/transformers/c9d2c178fac8d40234baa1833a3b1903d393729bf93ea34da247c07db24900d0.cb2244924ab24d706b02fd7fcedaea4531566537687a539ebb94db511fd122a0.lock\n",
            "08/16/2021 21:23:02 - INFO - filelock -   Lock 140655432951632 acquired on /root/.cache/huggingface/transformers/e8a600814b69e3ee74bb4a7398cc6fef9812475010f16a6c9f151b2c2772b089.451739a2f3b82c3375da0dfc6af295bedc4567373b171f514dd09a4cc4b31513.lock\n"
          ],
          "name": "stderr"
        },
        {
          "output_type": "display_data",
          "data": {
            "application/vnd.jupyter.widget-view+json": {
              "model_id": "4532bbecc2b643788a1af249d249c4d0",
              "version_minor": 0,
              "version_major": 2
            },
            "text/plain": [
              "Downloading:   0%|          | 0.00/79.0 [00:00<?, ?B/s]"
            ]
          },
          "metadata": {
            "tags": []
          }
        },
        {
          "output_type": "stream",
          "text": [
            "08/16/2021 21:23:02 - INFO - filelock -   Lock 140655432951632 released on /root/.cache/huggingface/transformers/e8a600814b69e3ee74bb4a7398cc6fef9812475010f16a6c9f151b2c2772b089.451739a2f3b82c3375da0dfc6af295bedc4567373b171f514dd09a4cc4b31513.lock\n",
            "08/16/2021 21:23:03 - WARNING - farm.utils -   ML Logging is turned off. No parameters, metrics or artifacts will be logged to MLFlow.\n",
            "08/16/2021 21:23:03 - INFO - farm.utils -   Using device: CUDA \n",
            "08/16/2021 21:23:03 - INFO - farm.utils -   Number of GPUs: 1\n",
            "08/16/2021 21:23:03 - INFO - farm.utils -   Distributed Training: False\n",
            "08/16/2021 21:23:03 - INFO - farm.utils -   Automatic Mixed Precision: None\n",
            "08/16/2021 21:23:03 - INFO - farm.infer -   Got ya 2 parallel workers to do inference ...\n",
            "08/16/2021 21:23:03 - INFO - farm.infer -    0    0 \n",
            "08/16/2021 21:23:03 - INFO - farm.infer -   /w\\  /w\\\n",
            "08/16/2021 21:23:03 - INFO - farm.infer -   /'\\  / \\\n",
            "08/16/2021 21:23:03 - INFO - farm.infer -     \n",
            "08/16/2021 21:23:03 - INFO - farm.utils -   Using device: CUDA \n",
            "08/16/2021 21:23:03 - INFO - farm.utils -   Number of GPUs: 1\n",
            "08/16/2021 21:23:03 - INFO - farm.utils -   Distributed Training: False\n",
            "08/16/2021 21:23:03 - INFO - farm.utils -   Automatic Mixed Precision: None\n"
          ],
          "name": "stderr"
        }
      ]
    },
    {
      "cell_type": "markdown",
      "metadata": {
        "id": "9J4BhbkHnox_"
      },
      "source": [
        "#### TransformersReader"
      ]
    },
    {
      "cell_type": "code",
      "metadata": {
        "id": "tjwHmTognoyA"
      },
      "source": [
        "# Alternative:\n",
        "# reader = TransformersReader(model_name_or_path=\"distilbert-base-uncased-distilled-squad\", tokenizer=\"distilbert-base-uncased\", use_gpu=-1)"
      ],
      "execution_count": null,
      "outputs": []
    },
    {
      "cell_type": "markdown",
      "metadata": {
        "id": "8uN8D8IPnoyA"
      },
      "source": [
        "### Pipeline\n",
        "\n",
        "With a Haystack `Pipeline` you can stick together your building blocks to a search pipeline.\n",
        "Under the hood, `Pipelines` are Directed Acyclic Graphs (DAGs) that you can easily customize for your own use cases.\n",
        "To speed things up, Haystack also comes with a few predefined Pipelines. One of them is the `ExtractiveQAPipeline` that combines a retriever and a reader to answer our questions.\n",
        "You can learn more about `Pipelines` in the [docs](https://haystack.deepset.ai/docs/latest/pipelinesmd)."
      ]
    },
    {
      "cell_type": "code",
      "metadata": {
        "pycharm": {
          "is_executing": false
        },
        "id": "591nQr49noyB"
      },
      "source": [
        "from haystack.pipeline import ExtractiveQAPipeline\n",
        "pipe = ExtractiveQAPipeline(reader, retriever)"
      ],
      "execution_count": 23,
      "outputs": []
    },
    {
      "cell_type": "markdown",
      "metadata": {
        "id": "5CrH21lKnoyB"
      },
      "source": [
        "## Voilà! Ask a question!"
      ]
    },
    {
      "cell_type": "code",
      "metadata": {
        "pycharm": {
          "is_executing": false
        },
        "id": "6o1X0m5knoyB",
        "colab": {
          "base_uri": "https://localhost:8080/"
        },
        "outputId": "996feafb-a311-40f3-a803-ec77996f6fff"
      },
      "source": [
        "# You can configure how many candidates the reader and retriever shall return\n",
        "# The higher top_k_retriever, the better (but also the slower) your answers. \n",
        "prediction = pipe.run(query=\"When was PM modi born\", top_k_retriever=10, top_k_reader=5)\n",
        "\n",
        "print(\"\\n\")\n",
        "print(\"\\n\")\n",
        "print_answers(prediction, details=\"minimal\")"
      ],
      "execution_count": 29,
      "outputs": [
        {
          "output_type": "stream",
          "text": [
            "08/16/2021 21:25:50 - INFO - elasticsearch -   POST http://localhost:9200/document/_search [status:200 request:0.014s]\n",
            "Inferencing Samples: 100%|██████████| 1/1 [00:00<00:00,  4.32 Batches/s]\n",
            "Inferencing Samples: 100%|██████████| 1/1 [00:00<00:00,  7.50 Batches/s]\n",
            "Inferencing Samples: 100%|██████████| 1/1 [00:00<00:00,  5.62 Batches/s]\n",
            "Inferencing Samples: 100%|██████████| 1/1 [00:00<00:00, 51.49 Batches/s]\n",
            "Inferencing Samples: 100%|██████████| 1/1 [00:00<00:00, 34.75 Batches/s]\n",
            "Inferencing Samples: 100%|██████████| 1/1 [00:00<00:00, 33.65 Batches/s]\n",
            "Inferencing Samples: 100%|██████████| 1/1 [00:00<00:00, 46.87 Batches/s]\n",
            "Inferencing Samples: 100%|██████████| 1/1 [00:00<00:00, 48.78 Batches/s]\n",
            "Inferencing Samples: 100%|██████████| 1/1 [00:00<00:00, 54.64 Batches/s]\n",
            "Inferencing Samples: 100%|██████████| 1/1 [00:00<00:00, 46.76 Batches/s]"
          ],
          "name": "stderr"
        },
        {
          "output_type": "stream",
          "text": [
            "\n",
            "\n",
            "\n",
            "\n",
            "[   {   'answer': '17 September 1950',\n",
            "        'context': '\\n'\n",
            "                   '== Early life and education ==\\n'\n",
            "                   'Narendra Modi was born on 17 September 1950 to a Gujarati '\n",
            "                   'Hindu family of grocers in Vadnagar, Mehsana district, '\n",
            "                   'Bomba'},\n",
            "    {   'answer': 'January 1952',\n",
            "        'context': 'Jashodaben Narendra Modi (née Jashodaben Chimanlal Modi; '\n",
            "                   'born January 1952) is a retired Indian school teacher and '\n",
            "                   'estranged wife of Narendra Modi. Th'},\n",
            "    {   'answer': '1947',\n",
            "        'context': \"rime Minister born after India's independence from the \"\n",
            "                   'British Empire in 1947. Modi started his second term after '\n",
            "                   'the Bharatiya Janata Party led Natio'},\n",
            "    {   'answer': 'after independence',\n",
            "        'context': 't he was going to be the first Prime Minister of India to '\n",
            "                   'be born after independence and that it would be natural to '\n",
            "                   'expect a shift in world view from'},\n",
            "    {   'answer': '12 June 1957',\n",
            "        'context': 'Narendra Singh Tomar (born 12 June 1957) is an Indian '\n",
            "                   'politician and a member of the 17th Lok Sabha. He is the '\n",
            "                   'Minister of Agriculture & Farmers Welfa'}]\n"
          ],
          "name": "stdout"
        },
        {
          "output_type": "stream",
          "text": [
            "\n"
          ],
          "name": "stderr"
        }
      ]
    },
    {
      "cell_type": "markdown",
      "metadata": {
        "collapsed": false,
        "pycharm": {
          "name": "#%% md\n"
        },
        "id": "FRixbtMqnoyC"
      },
      "source": [
        "## Credits:\n",
        "\n",
        "This [Haystack](https://github.com/deepset-ai/haystack/) notebook was made with love by [deepset](https://deepset.ai/) in Berlin, Germany\n",
        "\n",
        "We bring NLP to the industry via open source!  \n",
        "Our focus: Industry specific language models & large scale QA systems.  \n",
        "  \n",
        "Some of our other work: \n",
        "- [German BERT](https://deepset.ai/german-bert)\n",
        "- [GermanQuAD and GermanDPR](https://deepset.ai/germanquad)\n",
        "- [FARM](https://github.com/deepset-ai/FARM)\n",
        "\n",
        "Get in touch:\n",
        "[Twitter](https://twitter.com/deepset_ai) | [LinkedIn](https://www.linkedin.com/company/deepset-ai/) | [Slack](https://haystack.deepset.ai/community/join) | [GitHub Discussions](https://github.com/deepset-ai/haystack/discussions) | [Website](https://deepset.ai)\n",
        "\n",
        "By the way: [we're hiring!](https://apply.workable.com/deepset/) \n"
      ]
    }
  ]
}